{
  "cells": [
    {
      "cell_type": "markdown",
      "metadata": {
        "id": "view-in-github",
        "colab_type": "text"
      },
      "source": [
        "<a href=\"https://colab.research.google.com/github/Nikhisl/lstmonlinetrain/blob/main/bilstm.ipynb\" target=\"_parent\"><img src=\"https://colab.research.google.com/assets/colab-badge.svg\" alt=\"Open In Colab\"/></a>"
      ]
    },
    {
      "cell_type": "code",
      "execution_count": null,
      "metadata": {
        "colab": {
          "background_save": true,
          "base_uri": "https://localhost:8080/",
          "height": 90
        },
        "id": "DViwuuK9uSAa",
        "outputId": "87481f7a-5a70-4daf-a5cd-c8ccf59900fc"
      },
      "outputs": [
        {
          "data": {
            "text/html": [
              "\n",
              "     <input type=\"file\" id=\"files-8959d95c-f651-438a-8e65-df91e1f1509e\" name=\"files[]\" multiple disabled\n",
              "        style=\"border:none\" />\n",
              "     <output id=\"result-8959d95c-f651-438a-8e65-df91e1f1509e\">\n",
              "      Upload widget is only available when the cell has been executed in the\n",
              "      current browser session. Please rerun this cell to enable.\n",
              "      </output>\n",
              "      <script>// Copyright 2017 Google LLC\n",
              "//\n",
              "// Licensed under the Apache License, Version 2.0 (the \"License\");\n",
              "// you may not use this file except in compliance with the License.\n",
              "// You may obtain a copy of the License at\n",
              "//\n",
              "//      http://www.apache.org/licenses/LICENSE-2.0\n",
              "//\n",
              "// Unless required by applicable law or agreed to in writing, software\n",
              "// distributed under the License is distributed on an \"AS IS\" BASIS,\n",
              "// WITHOUT WARRANTIES OR CONDITIONS OF ANY KIND, either express or implied.\n",
              "// See the License for the specific language governing permissions and\n",
              "// limitations under the License.\n",
              "\n",
              "/**\n",
              " * @fileoverview Helpers for google.colab Python module.\n",
              " */\n",
              "(function(scope) {\n",
              "function span(text, styleAttributes = {}) {\n",
              "  const element = document.createElement('span');\n",
              "  element.textContent = text;\n",
              "  for (const key of Object.keys(styleAttributes)) {\n",
              "    element.style[key] = styleAttributes[key];\n",
              "  }\n",
              "  return element;\n",
              "}\n",
              "\n",
              "// Max number of bytes which will be uploaded at a time.\n",
              "const MAX_PAYLOAD_SIZE = 100 * 1024;\n",
              "\n",
              "function _uploadFiles(inputId, outputId) {\n",
              "  const steps = uploadFilesStep(inputId, outputId);\n",
              "  const outputElement = document.getElementById(outputId);\n",
              "  // Cache steps on the outputElement to make it available for the next call\n",
              "  // to uploadFilesContinue from Python.\n",
              "  outputElement.steps = steps;\n",
              "\n",
              "  return _uploadFilesContinue(outputId);\n",
              "}\n",
              "\n",
              "// This is roughly an async generator (not supported in the browser yet),\n",
              "// where there are multiple asynchronous steps and the Python side is going\n",
              "// to poll for completion of each step.\n",
              "// This uses a Promise to block the python side on completion of each step,\n",
              "// then passes the result of the previous step as the input to the next step.\n",
              "function _uploadFilesContinue(outputId) {\n",
              "  const outputElement = document.getElementById(outputId);\n",
              "  const steps = outputElement.steps;\n",
              "\n",
              "  const next = steps.next(outputElement.lastPromiseValue);\n",
              "  return Promise.resolve(next.value.promise).then((value) => {\n",
              "    // Cache the last promise value to make it available to the next\n",
              "    // step of the generator.\n",
              "    outputElement.lastPromiseValue = value;\n",
              "    return next.value.response;\n",
              "  });\n",
              "}\n",
              "\n",
              "/**\n",
              " * Generator function which is called between each async step of the upload\n",
              " * process.\n",
              " * @param {string} inputId Element ID of the input file picker element.\n",
              " * @param {string} outputId Element ID of the output display.\n",
              " * @return {!Iterable<!Object>} Iterable of next steps.\n",
              " */\n",
              "function* uploadFilesStep(inputId, outputId) {\n",
              "  const inputElement = document.getElementById(inputId);\n",
              "  inputElement.disabled = false;\n",
              "\n",
              "  const outputElement = document.getElementById(outputId);\n",
              "  outputElement.innerHTML = '';\n",
              "\n",
              "  const pickedPromise = new Promise((resolve) => {\n",
              "    inputElement.addEventListener('change', (e) => {\n",
              "      resolve(e.target.files);\n",
              "    });\n",
              "  });\n",
              "\n",
              "  const cancel = document.createElement('button');\n",
              "  inputElement.parentElement.appendChild(cancel);\n",
              "  cancel.textContent = 'Cancel upload';\n",
              "  const cancelPromise = new Promise((resolve) => {\n",
              "    cancel.onclick = () => {\n",
              "      resolve(null);\n",
              "    };\n",
              "  });\n",
              "\n",
              "  // Wait for the user to pick the files.\n",
              "  const files = yield {\n",
              "    promise: Promise.race([pickedPromise, cancelPromise]),\n",
              "    response: {\n",
              "      action: 'starting',\n",
              "    }\n",
              "  };\n",
              "\n",
              "  cancel.remove();\n",
              "\n",
              "  // Disable the input element since further picks are not allowed.\n",
              "  inputElement.disabled = true;\n",
              "\n",
              "  if (!files) {\n",
              "    return {\n",
              "      response: {\n",
              "        action: 'complete',\n",
              "      }\n",
              "    };\n",
              "  }\n",
              "\n",
              "  for (const file of files) {\n",
              "    const li = document.createElement('li');\n",
              "    li.append(span(file.name, {fontWeight: 'bold'}));\n",
              "    li.append(span(\n",
              "        `(${file.type || 'n/a'}) - ${file.size} bytes, ` +\n",
              "        `last modified: ${\n",
              "            file.lastModifiedDate ? file.lastModifiedDate.toLocaleDateString() :\n",
              "                                    'n/a'} - `));\n",
              "    const percent = span('0% done');\n",
              "    li.appendChild(percent);\n",
              "\n",
              "    outputElement.appendChild(li);\n",
              "\n",
              "    const fileDataPromise = new Promise((resolve) => {\n",
              "      const reader = new FileReader();\n",
              "      reader.onload = (e) => {\n",
              "        resolve(e.target.result);\n",
              "      };\n",
              "      reader.readAsArrayBuffer(file);\n",
              "    });\n",
              "    // Wait for the data to be ready.\n",
              "    let fileData = yield {\n",
              "      promise: fileDataPromise,\n",
              "      response: {\n",
              "        action: 'continue',\n",
              "      }\n",
              "    };\n",
              "\n",
              "    // Use a chunked sending to avoid message size limits. See b/62115660.\n",
              "    let position = 0;\n",
              "    do {\n",
              "      const length = Math.min(fileData.byteLength - position, MAX_PAYLOAD_SIZE);\n",
              "      const chunk = new Uint8Array(fileData, position, length);\n",
              "      position += length;\n",
              "\n",
              "      const base64 = btoa(String.fromCharCode.apply(null, chunk));\n",
              "      yield {\n",
              "        response: {\n",
              "          action: 'append',\n",
              "          file: file.name,\n",
              "          data: base64,\n",
              "        },\n",
              "      };\n",
              "\n",
              "      let percentDone = fileData.byteLength === 0 ?\n",
              "          100 :\n",
              "          Math.round((position / fileData.byteLength) * 100);\n",
              "      percent.textContent = `${percentDone}% done`;\n",
              "\n",
              "    } while (position < fileData.byteLength);\n",
              "  }\n",
              "\n",
              "  // All done.\n",
              "  yield {\n",
              "    response: {\n",
              "      action: 'complete',\n",
              "    }\n",
              "  };\n",
              "}\n",
              "\n",
              "scope.google = scope.google || {};\n",
              "scope.google.colab = scope.google.colab || {};\n",
              "scope.google.colab._files = {\n",
              "  _uploadFiles,\n",
              "  _uploadFilesContinue,\n",
              "};\n",
              "})(self);\n",
              "</script> "
            ],
            "text/plain": [
              "<IPython.core.display.HTML object>"
            ]
          },
          "metadata": {},
          "output_type": "display_data"
        },
        {
          "ename": "TypeError",
          "evalue": "'NoneType' object is not subscriptable",
          "output_type": "error",
          "traceback": [
            "\u001b[0;31m---------------------------------------------------------------------------\u001b[0m",
            "\u001b[0;31mTypeError\u001b[0m                                 Traceback (most recent call last)",
            "\u001b[0;32m<ipython-input-1-1655505954>\u001b[0m in \u001b[0;36m<cell line: 0>\u001b[0;34m()\u001b[0m\n\u001b[1;32m      1\u001b[0m \u001b[0;32mfrom\u001b[0m \u001b[0mgoogle\u001b[0m\u001b[0;34m.\u001b[0m\u001b[0mcolab\u001b[0m \u001b[0;32mimport\u001b[0m \u001b[0mfiles\u001b[0m\u001b[0;34m\u001b[0m\u001b[0;34m\u001b[0m\u001b[0m\n\u001b[0;32m----> 2\u001b[0;31m \u001b[0mfiles\u001b[0m\u001b[0;34m.\u001b[0m\u001b[0mupload\u001b[0m\u001b[0;34m(\u001b[0m\u001b[0;34m)\u001b[0m  \u001b[0;31m# Upload your kaggle.json here\u001b[0m\u001b[0;34m\u001b[0m\u001b[0;34m\u001b[0m\u001b[0m\n\u001b[0m",
            "\u001b[0;32m/usr/local/lib/python3.11/dist-packages/google/colab/files.py\u001b[0m in \u001b[0;36mupload\u001b[0;34m(target_dir)\u001b[0m\n\u001b[1;32m     70\u001b[0m   \"\"\"\n\u001b[1;32m     71\u001b[0m \u001b[0;34m\u001b[0m\u001b[0m\n\u001b[0;32m---> 72\u001b[0;31m   \u001b[0muploaded_files\u001b[0m \u001b[0;34m=\u001b[0m \u001b[0m_upload_files\u001b[0m\u001b[0;34m(\u001b[0m\u001b[0mmultiple\u001b[0m\u001b[0;34m=\u001b[0m\u001b[0;32mTrue\u001b[0m\u001b[0;34m)\u001b[0m\u001b[0;34m\u001b[0m\u001b[0;34m\u001b[0m\u001b[0m\n\u001b[0m\u001b[1;32m     73\u001b[0m   \u001b[0;31m# Mapping from original filename to filename as saved locally.\u001b[0m\u001b[0;34m\u001b[0m\u001b[0;34m\u001b[0m\u001b[0m\n\u001b[1;32m     74\u001b[0m   \u001b[0mlocal_filenames\u001b[0m \u001b[0;34m=\u001b[0m \u001b[0mdict\u001b[0m\u001b[0;34m(\u001b[0m\u001b[0;34m)\u001b[0m\u001b[0;34m\u001b[0m\u001b[0;34m\u001b[0m\u001b[0m\n",
            "\u001b[0;32m/usr/local/lib/python3.11/dist-packages/google/colab/files.py\u001b[0m in \u001b[0;36m_upload_files\u001b[0;34m(multiple)\u001b[0m\n\u001b[1;32m    169\u001b[0m   \u001b[0mfiles\u001b[0m \u001b[0;34m=\u001b[0m \u001b[0m_collections\u001b[0m\u001b[0;34m.\u001b[0m\u001b[0mdefaultdict\u001b[0m\u001b[0;34m(\u001b[0m\u001b[0mbytes\u001b[0m\u001b[0;34m)\u001b[0m\u001b[0;34m\u001b[0m\u001b[0;34m\u001b[0m\u001b[0m\n\u001b[1;32m    170\u001b[0m \u001b[0;34m\u001b[0m\u001b[0m\n\u001b[0;32m--> 171\u001b[0;31m   \u001b[0;32mwhile\u001b[0m \u001b[0mresult\u001b[0m\u001b[0;34m[\u001b[0m\u001b[0;34m'action'\u001b[0m\u001b[0;34m]\u001b[0m \u001b[0;34m!=\u001b[0m \u001b[0;34m'complete'\u001b[0m\u001b[0;34m:\u001b[0m\u001b[0;34m\u001b[0m\u001b[0;34m\u001b[0m\u001b[0m\n\u001b[0m\u001b[1;32m    172\u001b[0m     result = _output.eval_js(\n\u001b[1;32m    173\u001b[0m         'google.colab._files._uploadFilesContinue(\"{output_id}\")'.format(\n",
            "\u001b[0;31mTypeError\u001b[0m: 'NoneType' object is not subscriptable"
          ]
        }
      ],
      "source": [
        "from google.colab import files\n",
        "files.upload()  # Upload your kaggle.json here\n"
      ]
    },
    {
      "cell_type": "code",
      "execution_count": null,
      "metadata": {
        "colab": {
          "background_save": true
        },
        "id": "Lrfr3ndMuXXn"
      },
      "outputs": [],
      "source": [
        "!mkdir -p ~/.kaggle\n",
        "!cp kaggle.json ~/.kaggle/\n",
        "!chmod 600 ~/.kaggle/kaggle.json\n"
      ]
    },
    {
      "cell_type": "code",
      "execution_count": null,
      "metadata": {
        "colab": {
          "background_save": true
        },
        "id": "Izw5RAjyugji"
      },
      "outputs": [],
      "source": [
        "!kaggle datasets download -d banudeep/nthuddd2\n",
        "!unzip nthuddd2.zip -d /content/nthu\n"
      ]
    },
    {
      "cell_type": "code",
      "execution_count": null,
      "metadata": {
        "colab": {
          "background_save": true
        },
        "id": "iWxrDArgumSM"
      },
      "outputs": [],
      "source": [
        "from google.colab import files\n",
        "uploaded = files.upload()  # Choose your db_annotations.zip here\n"
      ]
    },
    {
      "cell_type": "code",
      "execution_count": null,
      "metadata": {
        "colab": {
          "background_save": true
        },
        "id": "MqFzcs4MydPe"
      },
      "outputs": [],
      "source": [
        "import zipfile\n",
        "import os\n",
        "\n",
        "zip_path = \"/content/db_annotations.zip\"  # or replace with exact name if different\n",
        "extract_path = \"/content/biwi_headpose_data\"\n",
        "\n",
        "os.makedirs(extract_path, exist_ok=True)\n",
        "\n",
        "with zipfile.ZipFile(zip_path, 'r') as zip_ref:\n",
        "    zip_ref.extractall(extract_path)\n",
        "\n",
        "print(f\"✅ Extracted BIWI dataset to: {extract_path}\")\n"
      ]
    },
    {
      "cell_type": "code",
      "execution_count": null,
      "metadata": {
        "colab": {
          "background_save": true
        },
        "id": "dRUG-Dfyy-7C"
      },
      "outputs": [],
      "source": [
        "import os\n",
        "import struct\n",
        "import pandas as pd\n",
        "\n",
        "def read_head_pose(bin_path):\n",
        "    with open(bin_path, 'rb') as f:\n",
        "        data = f.read()\n",
        "        pose = struct.unpack('fff', data[:12])  # pitch, yaw, roll\n",
        "    return pose\n",
        "\n",
        "pose_data = []\n",
        "base_path = \"/content/biwi_headpose_data\"\n",
        "\n",
        "for subject in sorted(os.listdir(base_path)):\n",
        "    subject_path = os.path.join(base_path, subject)\n",
        "    if not os.path.isdir(subject_path):\n",
        "        continue\n",
        "\n",
        "    for seq in sorted(os.listdir(subject_path)):\n",
        "        seq_path = os.path.join(subject_path, seq, \"frameAnnotations\", \"groundTruth.txt\")\n",
        "        if not os.path.exists(seq_path):\n",
        "            continue\n",
        "\n",
        "        with open(seq_path, \"r\") as f:\n",
        "            for line in f:\n",
        "                if line.strip() == \"\":\n",
        "                    continue\n",
        "                frame_name = line.split()[0].split('/')[-1].replace(\".png\", \"\")\n",
        "                bin_file = os.path.join(subject_path, seq, \"frameAnnotations\", \"Pose\", f\"{frame_name}.pose.txt\")\n",
        "                if not os.path.exists(bin_file):\n",
        "                    continue\n",
        "                try:\n",
        "                    pitch, yaw, roll = read_head_pose(bin_file)\n",
        "                    image_name = f\"{subject}/{seq}/{frame_name}.png\"\n",
        "                    pose_data.append([image_name, pitch, yaw, roll])\n",
        "                except:\n",
        "                    continue\n",
        "\n",
        "# ✅ Ensure directory exists\n",
        "os.makedirs(\"/content/headpose_data\", exist_ok=True)\n",
        "\n",
        "# Save to CSV\n",
        "df_pose = pd.DataFrame(pose_data, columns=[\"image\", \"pitch\", \"yaw\", \"roll\"])\n",
        "df_pose.to_csv(\"/content/headpose_data/head_pose_labels.csv\", index=False)\n",
        "\n",
        "print(\"✅ Head pose CSV saved at: /content/headpose_data/head_pose_labels.csv\")\n"
      ]
    },
    {
      "cell_type": "code",
      "execution_count": null,
      "metadata": {
        "colab": {
          "background_save": true
        },
        "id": "3eZ58FJxzdj4"
      },
      "outputs": [],
      "source": [
        "from google.colab import files\n",
        "files.download(\"/content/headpose_data/head_pose_labels.csv\")\n"
      ]
    },
    {
      "cell_type": "code",
      "execution_count": null,
      "metadata": {
        "colab": {
          "background_save": true
        },
        "id": "mSX-WDor057n"
      },
      "outputs": [],
      "source": [
        "import pandas as pd\n",
        "\n",
        "# ⚠️ all_keypoints_data should be in memory (each item: image, pitch, yaw, roll, kpt_0..520, label)\n",
        "# If not, you may need to re-run the keypoint extraction script first\n",
        "\n",
        "# Example only if `all_keypoints_data` exists\n",
        "try:\n",
        "    output = all_keypoints_data  # or rename if your variable is different\n",
        "\n",
        "    # Prepare column names\n",
        "    num_kpts = len(output[0]) - 5  # 5: image, pitch, yaw, roll, label\n",
        "    columns = [\"image\", \"pitch\", \"yaw\", \"roll\"] + [f\"kpt_{i}\" for i in range(num_kpts)] + [\"label\"]\n",
        "\n",
        "    # Convert and save\n",
        "    df_out = pd.DataFrame(output, columns=columns)\n",
        "    df_out.to_csv(\"/content/nthu_keypoints.csv\", index=False)\n",
        "    print(\"✅ Saved to /content/nthu_keypoints.csv\")\n",
        "\n",
        "except Exception as e:\n",
        "    print(\"❌ Could not save: `all_keypoints_data` not found or malformed\")\n",
        "    print(f\"Error: {e}\")\n"
      ]
    },
    {
      "cell_type": "code",
      "execution_count": null,
      "metadata": {
        "colab": {
          "background_save": true
        },
        "id": "AvdykFJJ1ZCU"
      },
      "outputs": [],
      "source": [
        "from google.colab import files\n",
        "uploaded = files.upload()  # Upload the NTHU zip\n"
      ]
    },
    {
      "cell_type": "code",
      "execution_count": null,
      "metadata": {
        "colab": {
          "background_save": true
        },
        "id": "c7OMp1972Vwj"
      },
      "outputs": [],
      "source": [
        "!mkdir -p ~/.kaggle\n",
        "!cp kaggle.json ~/.kaggle/\n",
        "!chmod 600 ~/.kaggle/kaggle.json\n",
        "\n",
        "!kaggle datasets download -d banudeep/nthuddd2\n",
        "!unzip nthuddd2.zip -d /content/nthu_data\n"
      ]
    },
    {
      "cell_type": "code",
      "execution_count": null,
      "metadata": {
        "colab": {
          "background_save": true
        },
        "id": "005pHfuX3oqK"
      },
      "outputs": [],
      "source": [
        "!pip install mediapipe --quiet\n"
      ]
    },
    {
      "cell_type": "code",
      "execution_count": null,
      "metadata": {
        "colab": {
          "background_save": true
        },
        "id": "QFSZDA0T2ZcA"
      },
      "outputs": [],
      "source": [
        "import cv2\n",
        "import mediapipe as mp\n",
        "import pandas as pd\n",
        "import os\n",
        "\n",
        "mp_pose = mp.solutions.pose.Pose()\n",
        "mp_hands = mp.solutions.hands.Hands()\n",
        "mp_face = mp.solutions.face_mesh.FaceMesh()\n",
        "\n",
        "def extract_mediapipe_keypoints(image_path):\n",
        "    image = cv2.imread(image_path)\n",
        "    if image is None:\n",
        "        return None\n",
        "    image_rgb = cv2.cvtColor(image, cv2.COLOR_BGR2RGB)\n",
        "\n",
        "    results_pose = mp_pose.process(image_rgb)\n",
        "    results_hands = mp_hands.process(image_rgb)\n",
        "    results_face = mp_face.process(image_rgb)\n",
        "\n",
        "    keypoints = []\n",
        "\n",
        "    # Pose (33 landmarks)\n",
        "    if results_pose.pose_landmarks:\n",
        "        keypoints += [coord for lm in results_pose.pose_landmarks.landmark for coord in (lm.x, lm.y, lm.z)]\n",
        "    else:\n",
        "        keypoints += [0]*99\n",
        "\n",
        "    # Hands (left + right = 42 landmarks)\n",
        "    for hand in [results_hands.multi_hand_landmarks] if results_hands.multi_hand_landmarks else [None, None]:\n",
        "        if hand:\n",
        "            keypoints += [coord for lm in hand[0].landmark for coord in (lm.x, lm.y, lm.z)]\n",
        "        else:\n",
        "            keypoints += [0]*63\n",
        "\n",
        "    # Face (468 landmarks)\n",
        "    if results_face.multi_face_landmarks:\n",
        "        keypoints += [coord for lm in results_face.multi_face_landmarks[0].landmark for coord in (lm.x, lm.y, lm.z)]\n",
        "    else:\n",
        "        keypoints += [0]*1404\n",
        "\n",
        "    return keypoints\n",
        "\n",
        "all_keypoints_data = []\n",
        "\n",
        "# Update this path based on actual folder names\n",
        "data_path = \"/content/nthu_data\"\n",
        "label_dict = {\"drowsy\": 1, \"notdrowsy\": 0}\n",
        "\n",
        "for root, dirs, files in os.walk(data_path):\n",
        "    for file in files:\n",
        "        if file.endswith(\".jpg\") or file.endswith(\".png\"):\n",
        "            full_path = os.path.join(root, file)\n",
        "            label = 1 if \"drowsy\" in full_path.lower() else 0\n",
        "            kpts = extract_mediapipe_keypoints(full_path)\n",
        "            if kpts:\n",
        "                all_keypoints_data.append([file, 0, 0, 0] + kpts + [label])  # dummy pitch/yaw/roll for now\n",
        "\n",
        "print(f\"✅ Total samples extracted: {len(all_keypoints_data)}\")\n"
      ]
    },
    {
      "cell_type": "code",
      "execution_count": null,
      "metadata": {
        "colab": {
          "background_save": true
        },
        "id": "peH1cEY03BWz"
      },
      "outputs": [],
      "source": [
        "import pandas as pd\n",
        "\n",
        "# Check one sample to see how many features\n",
        "sample_len = len(all_keypoints_data[0])\n",
        "print(f\"📏 Total columns per row: {sample_len}\")\n",
        "\n",
        "# Columns: image + pitch + yaw + roll + keypoints + label\n",
        "keypoint_count = sample_len - 5  # excluding image, pitch, yaw, roll, label\n",
        "\n",
        "# Now build column names dynamically\n",
        "columns = [\"image\", \"pitch\", \"yaw\", \"roll\"] + [f\"kpt_{i}\" for i in range(keypoint_count)] + [\"label\"]\n",
        "\n",
        "# Convert to DataFrame\n",
        "df_nthu_kpt = pd.DataFrame(all_keypoints_data, columns=columns)\n",
        "\n",
        "# Save to CSV\n",
        "df_nthu_kpt.to_csv(\"/content/nthu_keypoints.csv\", index=False)\n",
        "print(\"✅ Saved NTHU keypoints to: /content/nthu_keypoints.csv\")"
      ]
    },
    {
      "cell_type": "code",
      "execution_count": null,
      "metadata": {
        "colab": {
          "background_save": true
        },
        "id": "q7cCjpNlKKPZ"
      },
      "outputs": [],
      "source": [
        "from google.colab import files\n",
        "files.download(\"/content/nthu_keypoints.csv\")\n"
      ]
    },
    {
      "cell_type": "code",
      "source": [
        "import zipfile\n",
        "\n",
        "# Extract faces zip\n",
        "zip_path_faces = \"/content/drive/MyDrive/facespose.zip\"\n",
        "extract_path_faces = \"/content/facespose\"\n",
        "with zipfile.ZipFile(zip_path_faces, 'r') as zip_ref:\n",
        "    zip_ref.extractall(extract_path_faces)\n",
        "\n",
        "# Extract annotations zip\n",
        "zip_path_annot = \"/content/drive/MyDrive/db_annotationsfile.zip\"\n",
        "extract_path_annot = \"/content/db_annotationsfile\"\n",
        "with zipfile.ZipFile(zip_path_annot, 'r') as zip_ref:\n",
        "    zip_ref.extractall(extract_path_annot)\n",
        "\n",
        "print(\"✅ Extracted both zip files successfully!\")\n"
      ],
      "metadata": {
        "colab": {
          "base_uri": "https://localhost:8080/"
        },
        "id": "t-o5IsCYK8Vn",
        "outputId": "7804851a-eceb-489a-af94-c232100a1f75"
      },
      "execution_count": null,
      "outputs": [
        {
          "output_type": "stream",
          "name": "stdout",
          "text": [
            "✅ Extracted both zip files successfully!\n"
          ]
        }
      ]
    },
    {
      "cell_type": "code",
      "source": [
        "import os\n",
        "\n",
        "print(\"✅ Checking faces_subset structure:\")\n",
        "print(os.listdir(\"/content/facespose\")[:5])  # should show folders like '1', '2', ...\n",
        "\n",
        "print(\"✅ Checking db_annotations structure:\")\n",
        "print(os.listdir(\"/content/db_annotationsfile\")[:5])\n"
      ],
      "metadata": {
        "colab": {
          "base_uri": "https://localhost:8080/"
        },
        "id": "6_vFkYj5MWcn",
        "outputId": "7b289df8-4a79-4781-fdd8-ff3e95aad36b"
      },
      "execution_count": null,
      "outputs": [
        {
          "output_type": "stream",
          "name": "stdout",
          "text": [
            "✅ Checking faces_subset structure:\n",
            "['07.obj', '10', '06.obj', '10.obj', '01']\n",
            "✅ Checking db_annotations structure:\n",
            "['10', '01', '05', '04', '03']\n"
          ]
        }
      ]
    },
    {
      "cell_type": "code",
      "source": [
        "import os\n",
        "import numpy as np\n",
        "import pandas as pd\n",
        "from scipy.spatial.transform import Rotation as R\n",
        "\n",
        "def extract_pose_from_file(pose_path):\n",
        "    with open(pose_path, 'r') as f:\n",
        "        lines = f.readlines()\n",
        "        matrix = []\n",
        "        for line in lines:\n",
        "            numbers = list(map(float, line.strip().split()))\n",
        "            matrix.append(numbers)\n",
        "        matrix = np.array(matrix[:3])  # 3x4 matrix\n",
        "        rotation_matrix = matrix[:, :3]\n",
        "        r = R.from_matrix(rotation_matrix)\n",
        "        pitch, yaw, roll = r.as_euler('xyz', degrees=True)\n",
        "        return pitch, yaw, roll\n",
        "\n",
        "def extract_head_pose_labels_biwi(base_dir):\n",
        "    pose_data = []\n",
        "    subjects = sorted(os.listdir(base_dir))\n",
        "\n",
        "    for subj in subjects:\n",
        "        subj_path = os.path.join(base_dir, subj)\n",
        "        if not os.path.isdir(subj_path):\n",
        "            continue\n",
        "\n",
        "        files = sorted(os.listdir(subj_path))\n",
        "        for file in files:\n",
        "            if file.endswith(\"_rgb.png\"):\n",
        "                image_path = os.path.join(subj, file)\n",
        "                pose_file = file.replace(\"_rgb.png\", \"_pose.txt\")\n",
        "                pose_path = os.path.join(subj_path, pose_file)\n",
        "\n",
        "                if not os.path.exists(pose_path):\n",
        "                    continue\n",
        "\n",
        "                try:\n",
        "                    pitch, yaw, roll = extract_pose_from_file(pose_path)\n",
        "                    pose_data.append([image_path, pitch, yaw, roll])\n",
        "                except:\n",
        "                    print(f\"⚠️ Skipped corrupted or unreadable file: {pose_path}\")\n",
        "                    continue\n",
        "\n",
        "    return pose_data\n",
        "\n",
        "# Extract\n",
        "pose_data = extract_head_pose_labels_biwi(\"/content/facespose\")\n",
        "\n",
        "# Save\n",
        "os.makedirs(\"/content/headpose_data\", exist_ok=True)\n",
        "df_pose = pd.DataFrame(pose_data, columns=[\"image\", \"pitch\", \"yaw\", \"roll\"])\n",
        "df_pose.to_csv(\"/content/headpose_data/head_pose_labels.csv\", index=False)\n",
        "\n",
        "print(f\"✅ Head pose CSV saved successfully with {len(df_pose)} records!\")\n"
      ],
      "metadata": {
        "colab": {
          "base_uri": "https://localhost:8080/"
        },
        "id": "JAOVSYWAQpjo",
        "outputId": "64a5b541-6100-41fd-879c-dada9990f620"
      },
      "execution_count": null,
      "outputs": [
        {
          "output_type": "stream",
          "name": "stdout",
          "text": [
            "✅ Head pose CSV saved successfully with 7097 records!\n"
          ]
        }
      ]
    },
    {
      "cell_type": "code",
      "source": [
        "from google.colab import files\n",
        "files.download(\"/content/headpose_data/head_pose_labels.csv\")\n"
      ],
      "metadata": {
        "colab": {
          "base_uri": "https://localhost:8080/",
          "height": 17
        },
        "id": "2h2Yl8ZHRRfC",
        "outputId": "50e59916-b852-412a-d6bc-e32cb7136572"
      },
      "execution_count": null,
      "outputs": [
        {
          "output_type": "display_data",
          "data": {
            "text/plain": [
              "<IPython.core.display.Javascript object>"
            ],
            "application/javascript": [
              "\n",
              "    async function download(id, filename, size) {\n",
              "      if (!google.colab.kernel.accessAllowed) {\n",
              "        return;\n",
              "      }\n",
              "      const div = document.createElement('div');\n",
              "      const label = document.createElement('label');\n",
              "      label.textContent = `Downloading \"${filename}\": `;\n",
              "      div.appendChild(label);\n",
              "      const progress = document.createElement('progress');\n",
              "      progress.max = size;\n",
              "      div.appendChild(progress);\n",
              "      document.body.appendChild(div);\n",
              "\n",
              "      const buffers = [];\n",
              "      let downloaded = 0;\n",
              "\n",
              "      const channel = await google.colab.kernel.comms.open(id);\n",
              "      // Send a message to notify the kernel that we're ready.\n",
              "      channel.send({})\n",
              "\n",
              "      for await (const message of channel.messages) {\n",
              "        // Send a message to notify the kernel that we're ready.\n",
              "        channel.send({})\n",
              "        if (message.buffers) {\n",
              "          for (const buffer of message.buffers) {\n",
              "            buffers.push(buffer);\n",
              "            downloaded += buffer.byteLength;\n",
              "            progress.value = downloaded;\n",
              "          }\n",
              "        }\n",
              "      }\n",
              "      const blob = new Blob(buffers, {type: 'application/binary'});\n",
              "      const a = document.createElement('a');\n",
              "      a.href = window.URL.createObjectURL(blob);\n",
              "      a.download = filename;\n",
              "      div.appendChild(a);\n",
              "      a.click();\n",
              "      div.remove();\n",
              "    }\n",
              "  "
            ]
          },
          "metadata": {}
        },
        {
          "output_type": "display_data",
          "data": {
            "text/plain": [
              "<IPython.core.display.Javascript object>"
            ],
            "application/javascript": [
              "download(\"download_41d65d9a-a8cf-4e0e-a516-18f9b8de29f4\", \"head_pose_labels.csv\", 566051)"
            ]
          },
          "metadata": {}
        }
      ]
    },
    {
      "cell_type": "code",
      "source": [
        "df_pose = pd.read_csv(\"/content/headpose_data/head_pose_labels.csv\")\n",
        "df_kpt = pd.read_csv(\"/content/nthu_keypoints.csv\")\n",
        "\n",
        "# Merge on image column\n",
        "df_merged = pd.merge(df_kpt, df_pose, on='image', how='inner')  # or 'left'\n",
        "\n",
        "# Save merged CSV\n",
        "df_merged.to_csv(\"/content/merged_driver_data.csv\", index=False)\n",
        "print(\"✅ Merged dataset saved!\")\n"
      ],
      "metadata": {
        "colab": {
          "base_uri": "https://localhost:8080/"
        },
        "id": "p_-i3OVZR6tG",
        "outputId": "b088c4ae-62fb-41cd-fac2-65d8bd27eecb"
      },
      "execution_count": null,
      "outputs": [
        {
          "output_type": "stream",
          "name": "stdout",
          "text": [
            "✅ Merged dataset saved!\n"
          ]
        }
      ]
    },
    {
      "cell_type": "code",
      "source": [
        "from google.colab import files\n",
        "files.download(\"/content/merged_driver_data.csv\")"
      ],
      "metadata": {
        "colab": {
          "base_uri": "https://localhost:8080/",
          "height": 17
        },
        "id": "OkMCUzVYSF7R",
        "outputId": "2665c422-b61e-404a-c0ff-dc0bce5d241d"
      },
      "execution_count": null,
      "outputs": [
        {
          "output_type": "display_data",
          "data": {
            "text/plain": [
              "<IPython.core.display.Javascript object>"
            ],
            "application/javascript": [
              "\n",
              "    async function download(id, filename, size) {\n",
              "      if (!google.colab.kernel.accessAllowed) {\n",
              "        return;\n",
              "      }\n",
              "      const div = document.createElement('div');\n",
              "      const label = document.createElement('label');\n",
              "      label.textContent = `Downloading \"${filename}\": `;\n",
              "      div.appendChild(label);\n",
              "      const progress = document.createElement('progress');\n",
              "      progress.max = size;\n",
              "      div.appendChild(progress);\n",
              "      document.body.appendChild(div);\n",
              "\n",
              "      const buffers = [];\n",
              "      let downloaded = 0;\n",
              "\n",
              "      const channel = await google.colab.kernel.comms.open(id);\n",
              "      // Send a message to notify the kernel that we're ready.\n",
              "      channel.send({})\n",
              "\n",
              "      for await (const message of channel.messages) {\n",
              "        // Send a message to notify the kernel that we're ready.\n",
              "        channel.send({})\n",
              "        if (message.buffers) {\n",
              "          for (const buffer of message.buffers) {\n",
              "            buffers.push(buffer);\n",
              "            downloaded += buffer.byteLength;\n",
              "            progress.value = downloaded;\n",
              "          }\n",
              "        }\n",
              "      }\n",
              "      const blob = new Blob(buffers, {type: 'application/binary'});\n",
              "      const a = document.createElement('a');\n",
              "      a.href = window.URL.createObjectURL(blob);\n",
              "      a.download = filename;\n",
              "      div.appendChild(a);\n",
              "      a.click();\n",
              "      div.remove();\n",
              "    }\n",
              "  "
            ]
          },
          "metadata": {}
        },
        {
          "output_type": "display_data",
          "data": {
            "text/plain": [
              "<IPython.core.display.Javascript object>"
            ],
            "application/javascript": [
              "download(\"download_fc67eaf5-0c9b-4538-b294-fdcb7d1a4132\", \"merged_driver_data.csv\", 13605)"
            ]
          },
          "metadata": {}
        }
      ]
    },
    {
      "cell_type": "code",
      "source": [
        "from google.colab import drive\n",
        "drive.mount('/content/drive')\n"
      ],
      "metadata": {
        "colab": {
          "base_uri": "https://localhost:8080/"
        },
        "id": "oXwk65ieaXQ8",
        "outputId": "7694a922-5226-44ab-b32e-89d73acd97b6"
      },
      "execution_count": 2,
      "outputs": [
        {
          "output_type": "stream",
          "name": "stdout",
          "text": [
            "Mounted at /content/drive\n"
          ]
        }
      ]
    },
    {
      "cell_type": "code",
      "source": [
        "import shutil\n",
        "import os\n",
        "\n",
        "# Define source and destination paths\n",
        "drive_head_pose_path = '/content/drive/MyDrive/head_pose_labels (3).csv'\n",
        "colab_head_pose_dir = '/content/headpose_data'\n",
        "colab_head_pose_path = os.path.join(colab_head_pose_dir, 'head_pose_labels.csv')\n",
        "\n",
        "drive_nthu_path = '/content/drive/MyDrive/nthu_keypoints.csv'\n",
        "colab_nthu_path = '/content/nthu_keypoints.csv'\n",
        "\n",
        "# Ensure the target directory exists for head_pose_labels.csv\n",
        "os.makedirs(colab_head_pose_dir, exist_ok=True)\n",
        "\n",
        "try:\n",
        "    # Copy the head pose labels file\n",
        "    shutil.copy(drive_head_pose_path, colab_head_pose_path)\n",
        "    print(f\"✅ Copied '{drive_head_pose_path}' to '{colab_head_pose_path}'\")\n",
        "\n",
        "    # Copy the nthu keypoints file\n",
        "    shutil.copy(drive_nthu_path, colab_nthu_path)\n",
        "    print(f\"✅ Copied '{drive_nthu_path}' to '{colab_nthu_path}'\")\n",
        "\n",
        "except FileNotFoundError as e:\n",
        "    print(f\"❌ Error: {e}. Please ensure the files exist in your Google Drive at the specified paths.\")\n",
        "except Exception as e:\n",
        "    print(f\"❌ An unexpected error occurred: {e}\")"
      ],
      "metadata": {
        "colab": {
          "base_uri": "https://localhost:8080/"
        },
        "id": "-JPiAAX8bL94",
        "outputId": "10750576-66a9-49f7-f44e-2e58b093e2b2"
      },
      "execution_count": 8,
      "outputs": [
        {
          "output_type": "stream",
          "name": "stdout",
          "text": [
            "✅ Copied '/content/drive/MyDrive/head_pose_labels (3).csv' to '/content/headpose_data/head_pose_labels.csv'\n",
            "✅ Copied '/content/drive/MyDrive/nthu_keypoints.csv' to '/content/nthu_keypoints.csv'\n"
          ]
        }
      ]
    },
    {
      "cell_type": "code",
      "source": [
        "import pandas as pd\n",
        "\n",
        "# Load both files\n",
        "biwi_df = pd.read_csv('/content/headpose_data/head_pose_labels.csv')\n",
        "nthu_df = pd.read_csv('/content/nthu_keypoints.csv')\n",
        "\n",
        "# Make sure both have same columns\n",
        "print(\"BIWI Columns:\", biwi_df.columns.tolist())\n",
        "print(\"NTHU Columns:\", nthu_df.columns.tolist())\n",
        "\n",
        "# Merge\n",
        "combined_df = pd.concat([biwi_df, nthu_df], ignore_index=True)\n",
        "\n",
        "# Save combined CSV\n",
        "combined_df.to_csv('/content/combined_keypoints.csv', index=False)\n",
        "print(\"✅ Combined dataset saved.\")\n"
      ],
      "metadata": {
        "colab": {
          "base_uri": "https://localhost:8080/"
        },
        "id": "lJtmM3mtbSVW",
        "outputId": "648f9f7a-9941-4789-e6e1-6be03c3c4084"
      },
      "execution_count": 9,
      "outputs": [
        {
          "output_type": "stream",
          "name": "stdout",
          "text": [
            "BIWI Columns: ['image', 'pitch', 'yaw', 'roll']\n",
            "NTHU Columns: ['image', 'pitch', 'yaw', 'roll', 'kpt_0', 'kpt_1', 'kpt_2', 'kpt_3', 'kpt_4', 'kpt_5', 'kpt_6', 'kpt_7', 'kpt_8', 'kpt_9', 'kpt_10', 'kpt_11', 'kpt_12', 'kpt_13', 'kpt_14', 'kpt_15', 'kpt_16', 'kpt_17', 'kpt_18', 'kpt_19', 'kpt_20', 'kpt_21', 'kpt_22', 'kpt_23', 'kpt_24', 'kpt_25', 'kpt_26', 'kpt_27', 'kpt_28', 'kpt_29', 'kpt_30', 'kpt_31', 'kpt_32', 'kpt_33', 'kpt_34', 'kpt_35', 'kpt_36', 'kpt_37', 'kpt_38', 'kpt_39', 'kpt_40', 'kpt_41', 'kpt_42', 'kpt_43', 'kpt_44', 'kpt_45', 'kpt_46', 'kpt_47', 'kpt_48', 'kpt_49', 'kpt_50', 'kpt_51', 'kpt_52', 'kpt_53', 'kpt_54', 'kpt_55', 'kpt_56', 'kpt_57', 'kpt_58', 'kpt_59', 'kpt_60', 'kpt_61', 'kpt_62', 'kpt_63', 'kpt_64', 'kpt_65', 'kpt_66', 'kpt_67', 'kpt_68', 'kpt_69', 'kpt_70', 'kpt_71', 'kpt_72', 'kpt_73', 'kpt_74', 'kpt_75', 'kpt_76', 'kpt_77', 'kpt_78', 'kpt_79', 'kpt_80', 'kpt_81', 'kpt_82', 'kpt_83', 'kpt_84', 'kpt_85', 'kpt_86', 'kpt_87', 'kpt_88', 'kpt_89', 'kpt_90', 'kpt_91', 'kpt_92', 'kpt_93', 'kpt_94', 'kpt_95', 'kpt_96', 'kpt_97', 'kpt_98', 'kpt_99', 'kpt_100', 'kpt_101', 'kpt_102', 'kpt_103', 'kpt_104', 'kpt_105', 'kpt_106', 'kpt_107', 'kpt_108', 'kpt_109', 'kpt_110', 'kpt_111', 'kpt_112', 'kpt_113', 'kpt_114', 'kpt_115', 'kpt_116', 'kpt_117', 'kpt_118', 'kpt_119', 'kpt_120', 'kpt_121', 'kpt_122', 'kpt_123', 'kpt_124', 'kpt_125', 'kpt_126', 'kpt_127', 'kpt_128', 'kpt_129', 'kpt_130', 'kpt_131', 'kpt_132', 'kpt_133', 'kpt_134', 'kpt_135', 'kpt_136', 'kpt_137', 'kpt_138', 'kpt_139', 'kpt_140', 'kpt_141', 'kpt_142', 'kpt_143', 'kpt_144', 'kpt_145', 'kpt_146', 'kpt_147', 'kpt_148', 'kpt_149', 'kpt_150', 'kpt_151', 'kpt_152', 'kpt_153', 'kpt_154', 'kpt_155', 'kpt_156', 'kpt_157', 'kpt_158', 'kpt_159', 'kpt_160', 'kpt_161', 'kpt_162', 'kpt_163', 'kpt_164', 'kpt_165', 'kpt_166', 'kpt_167', 'kpt_168', 'kpt_169', 'kpt_170', 'kpt_171', 'kpt_172', 'kpt_173', 'kpt_174', 'kpt_175', 'kpt_176', 'kpt_177', 'kpt_178', 'kpt_179', 'kpt_180', 'kpt_181', 'kpt_182', 'kpt_183', 'kpt_184', 'kpt_185', 'kpt_186', 'kpt_187', 'kpt_188', 'kpt_189', 'kpt_190', 'kpt_191', 'kpt_192', 'kpt_193', 'kpt_194', 'kpt_195', 'kpt_196', 'kpt_197', 'kpt_198', 'kpt_199', 'kpt_200', 'kpt_201', 'kpt_202', 'kpt_203', 'kpt_204', 'kpt_205', 'kpt_206', 'kpt_207', 'kpt_208', 'kpt_209', 'kpt_210', 'kpt_211', 'kpt_212', 'kpt_213', 'kpt_214', 'kpt_215', 'kpt_216', 'kpt_217', 'kpt_218', 'kpt_219', 'kpt_220', 'kpt_221', 'kpt_222', 'kpt_223', 'kpt_224', 'kpt_225', 'kpt_226', 'kpt_227', 'kpt_228', 'kpt_229', 'kpt_230', 'kpt_231', 'kpt_232', 'kpt_233', 'kpt_234', 'kpt_235', 'kpt_236', 'kpt_237', 'kpt_238', 'kpt_239', 'kpt_240', 'kpt_241', 'kpt_242', 'kpt_243', 'kpt_244', 'kpt_245', 'kpt_246', 'kpt_247', 'kpt_248', 'kpt_249', 'kpt_250', 'kpt_251', 'kpt_252', 'kpt_253', 'kpt_254', 'kpt_255', 'kpt_256', 'kpt_257', 'kpt_258', 'kpt_259', 'kpt_260', 'kpt_261', 'kpt_262', 'kpt_263', 'kpt_264', 'kpt_265', 'kpt_266', 'kpt_267', 'kpt_268', 'kpt_269', 'kpt_270', 'kpt_271', 'kpt_272', 'kpt_273', 'kpt_274', 'kpt_275', 'kpt_276', 'kpt_277', 'kpt_278', 'kpt_279', 'kpt_280', 'kpt_281', 'kpt_282', 'kpt_283', 'kpt_284', 'kpt_285', 'kpt_286', 'kpt_287', 'kpt_288', 'kpt_289', 'kpt_290', 'kpt_291', 'kpt_292', 'kpt_293', 'kpt_294', 'kpt_295', 'kpt_296', 'kpt_297', 'kpt_298', 'kpt_299', 'kpt_300', 'kpt_301', 'kpt_302', 'kpt_303', 'kpt_304', 'kpt_305', 'kpt_306', 'kpt_307', 'kpt_308', 'kpt_309', 'kpt_310', 'kpt_311', 'kpt_312', 'kpt_313', 'kpt_314', 'kpt_315', 'kpt_316', 'kpt_317', 'kpt_318', 'kpt_319', 'kpt_320', 'kpt_321', 'kpt_322', 'kpt_323', 'kpt_324', 'kpt_325', 'kpt_326', 'kpt_327', 'kpt_328', 'kpt_329', 'kpt_330', 'kpt_331', 'kpt_332', 'kpt_333', 'kpt_334', 'kpt_335', 'kpt_336', 'kpt_337', 'kpt_338', 'kpt_339', 'kpt_340', 'kpt_341', 'kpt_342', 'kpt_343', 'kpt_344', 'kpt_345', 'kpt_346', 'kpt_347', 'kpt_348', 'kpt_349', 'kpt_350', 'kpt_351', 'kpt_352', 'kpt_353', 'kpt_354', 'kpt_355', 'kpt_356', 'kpt_357', 'kpt_358', 'kpt_359', 'kpt_360', 'kpt_361', 'kpt_362', 'kpt_363', 'kpt_364', 'kpt_365', 'kpt_366', 'kpt_367', 'kpt_368', 'kpt_369', 'kpt_370', 'kpt_371', 'kpt_372', 'kpt_373', 'kpt_374', 'kpt_375', 'kpt_376', 'kpt_377', 'kpt_378', 'kpt_379', 'kpt_380', 'kpt_381', 'kpt_382', 'kpt_383', 'kpt_384', 'kpt_385', 'kpt_386', 'kpt_387', 'kpt_388', 'kpt_389', 'kpt_390', 'kpt_391', 'kpt_392', 'kpt_393', 'kpt_394', 'kpt_395', 'kpt_396', 'kpt_397', 'kpt_398', 'kpt_399', 'kpt_400', 'kpt_401', 'kpt_402', 'kpt_403', 'kpt_404', 'kpt_405', 'kpt_406', 'kpt_407', 'kpt_408', 'kpt_409', 'kpt_410', 'kpt_411', 'kpt_412', 'kpt_413', 'kpt_414', 'kpt_415', 'kpt_416', 'kpt_417', 'kpt_418', 'kpt_419', 'kpt_420', 'kpt_421', 'kpt_422', 'kpt_423', 'kpt_424', 'kpt_425', 'kpt_426', 'kpt_427', 'kpt_428', 'kpt_429', 'kpt_430', 'kpt_431', 'kpt_432', 'kpt_433', 'kpt_434', 'kpt_435', 'kpt_436', 'kpt_437', 'kpt_438', 'kpt_439', 'kpt_440', 'kpt_441', 'kpt_442', 'kpt_443', 'kpt_444', 'kpt_445', 'kpt_446', 'kpt_447', 'kpt_448', 'kpt_449', 'kpt_450', 'kpt_451', 'kpt_452', 'kpt_453', 'kpt_454', 'kpt_455', 'kpt_456', 'kpt_457', 'kpt_458', 'kpt_459', 'kpt_460', 'kpt_461', 'kpt_462', 'kpt_463', 'kpt_464', 'kpt_465', 'kpt_466', 'kpt_467', 'kpt_468', 'kpt_469', 'kpt_470', 'kpt_471', 'kpt_472', 'kpt_473', 'kpt_474', 'kpt_475', 'kpt_476', 'kpt_477', 'kpt_478', 'kpt_479', 'kpt_480', 'kpt_481', 'kpt_482', 'kpt_483', 'kpt_484', 'kpt_485', 'kpt_486', 'kpt_487', 'kpt_488', 'kpt_489', 'kpt_490', 'kpt_491', 'kpt_492', 'kpt_493', 'kpt_494', 'kpt_495', 'kpt_496', 'kpt_497', 'kpt_498', 'kpt_499', 'kpt_500', 'kpt_501', 'kpt_502', 'kpt_503', 'kpt_504', 'kpt_505', 'kpt_506', 'kpt_507', 'kpt_508', 'kpt_509', 'kpt_510', 'kpt_511', 'kpt_512', 'kpt_513', 'kpt_514', 'kpt_515', 'kpt_516', 'kpt_517', 'kpt_518', 'kpt_519', 'kpt_520', 'kpt_521', 'kpt_522', 'kpt_523', 'kpt_524', 'kpt_525', 'kpt_526', 'kpt_527', 'kpt_528', 'kpt_529', 'kpt_530', 'kpt_531', 'kpt_532', 'kpt_533', 'kpt_534', 'kpt_535', 'kpt_536', 'kpt_537', 'kpt_538', 'kpt_539', 'kpt_540', 'kpt_541', 'kpt_542', 'kpt_543', 'kpt_544', 'kpt_545', 'kpt_546', 'kpt_547', 'kpt_548', 'kpt_549', 'kpt_550', 'kpt_551', 'kpt_552', 'kpt_553', 'kpt_554', 'kpt_555', 'kpt_556', 'kpt_557', 'kpt_558', 'kpt_559', 'kpt_560', 'kpt_561', 'kpt_562', 'kpt_563', 'kpt_564', 'kpt_565', 'kpt_566', 'kpt_567', 'kpt_568', 'kpt_569', 'kpt_570', 'kpt_571', 'kpt_572', 'kpt_573', 'kpt_574', 'kpt_575', 'kpt_576', 'kpt_577', 'kpt_578', 'kpt_579', 'kpt_580', 'kpt_581', 'kpt_582', 'kpt_583', 'kpt_584', 'kpt_585', 'kpt_586', 'kpt_587', 'kpt_588', 'kpt_589', 'kpt_590', 'kpt_591', 'kpt_592', 'kpt_593', 'kpt_594', 'kpt_595', 'kpt_596', 'kpt_597', 'kpt_598', 'kpt_599', 'kpt_600', 'kpt_601', 'kpt_602', 'kpt_603', 'kpt_604', 'kpt_605', 'kpt_606', 'kpt_607', 'kpt_608', 'kpt_609', 'kpt_610', 'kpt_611', 'kpt_612', 'kpt_613', 'kpt_614', 'kpt_615', 'kpt_616', 'kpt_617', 'kpt_618', 'kpt_619', 'kpt_620', 'kpt_621', 'kpt_622', 'kpt_623', 'kpt_624', 'kpt_625', 'kpt_626', 'kpt_627', 'kpt_628', 'kpt_629', 'kpt_630', 'kpt_631', 'kpt_632', 'kpt_633', 'kpt_634', 'kpt_635', 'kpt_636', 'kpt_637', 'kpt_638', 'kpt_639', 'kpt_640', 'kpt_641', 'kpt_642', 'kpt_643', 'kpt_644', 'kpt_645', 'kpt_646', 'kpt_647', 'kpt_648', 'kpt_649', 'kpt_650', 'kpt_651', 'kpt_652', 'kpt_653', 'kpt_654', 'kpt_655', 'kpt_656', 'kpt_657', 'kpt_658', 'kpt_659', 'kpt_660', 'kpt_661', 'kpt_662', 'kpt_663', 'kpt_664', 'kpt_665', 'kpt_666', 'kpt_667', 'kpt_668', 'kpt_669', 'kpt_670', 'kpt_671', 'kpt_672', 'kpt_673', 'kpt_674', 'kpt_675', 'kpt_676', 'kpt_677', 'kpt_678', 'kpt_679', 'kpt_680', 'kpt_681', 'kpt_682', 'kpt_683', 'kpt_684', 'kpt_685', 'kpt_686', 'kpt_687', 'kpt_688', 'kpt_689', 'kpt_690', 'kpt_691', 'kpt_692', 'kpt_693', 'kpt_694', 'kpt_695', 'kpt_696', 'kpt_697', 'kpt_698', 'kpt_699', 'kpt_700', 'kpt_701', 'kpt_702', 'kpt_703', 'kpt_704', 'kpt_705', 'kpt_706', 'kpt_707', 'kpt_708', 'kpt_709', 'kpt_710', 'kpt_711', 'kpt_712', 'kpt_713', 'kpt_714', 'kpt_715', 'kpt_716', 'kpt_717', 'kpt_718', 'kpt_719', 'kpt_720', 'kpt_721', 'kpt_722', 'kpt_723', 'kpt_724', 'kpt_725', 'kpt_726', 'kpt_727', 'kpt_728', 'kpt_729', 'kpt_730', 'kpt_731', 'kpt_732', 'kpt_733', 'kpt_734', 'kpt_735', 'kpt_736', 'kpt_737', 'kpt_738', 'kpt_739', 'kpt_740', 'kpt_741', 'kpt_742', 'kpt_743', 'kpt_744', 'kpt_745', 'kpt_746', 'kpt_747', 'kpt_748', 'kpt_749', 'kpt_750', 'kpt_751', 'kpt_752', 'kpt_753', 'kpt_754', 'kpt_755', 'kpt_756', 'kpt_757', 'kpt_758', 'kpt_759', 'kpt_760', 'kpt_761', 'kpt_762', 'kpt_763', 'kpt_764', 'kpt_765', 'kpt_766', 'kpt_767', 'kpt_768', 'kpt_769', 'kpt_770', 'kpt_771', 'kpt_772', 'kpt_773', 'kpt_774', 'kpt_775', 'kpt_776', 'kpt_777', 'kpt_778', 'kpt_779', 'kpt_780', 'kpt_781', 'kpt_782', 'kpt_783', 'kpt_784', 'kpt_785', 'kpt_786', 'kpt_787', 'kpt_788', 'kpt_789', 'kpt_790', 'kpt_791', 'kpt_792', 'kpt_793', 'kpt_794', 'kpt_795', 'kpt_796', 'kpt_797', 'kpt_798', 'kpt_799', 'kpt_800', 'kpt_801', 'kpt_802', 'kpt_803', 'kpt_804', 'kpt_805', 'kpt_806', 'kpt_807', 'kpt_808', 'kpt_809', 'kpt_810', 'kpt_811', 'kpt_812', 'kpt_813', 'kpt_814', 'kpt_815', 'kpt_816', 'kpt_817', 'kpt_818', 'kpt_819', 'kpt_820', 'kpt_821', 'kpt_822', 'kpt_823', 'kpt_824', 'kpt_825', 'kpt_826', 'kpt_827', 'kpt_828', 'kpt_829', 'kpt_830', 'kpt_831', 'kpt_832', 'kpt_833', 'kpt_834', 'kpt_835', 'kpt_836', 'kpt_837', 'kpt_838', 'kpt_839', 'kpt_840', 'kpt_841', 'kpt_842', 'kpt_843', 'kpt_844', 'kpt_845', 'kpt_846', 'kpt_847', 'kpt_848', 'kpt_849', 'kpt_850', 'kpt_851', 'kpt_852', 'kpt_853', 'kpt_854', 'kpt_855', 'kpt_856', 'kpt_857', 'kpt_858', 'kpt_859', 'kpt_860', 'kpt_861', 'kpt_862', 'kpt_863', 'kpt_864', 'kpt_865', 'kpt_866', 'kpt_867', 'kpt_868', 'kpt_869', 'kpt_870', 'kpt_871', 'kpt_872', 'kpt_873', 'kpt_874', 'kpt_875', 'kpt_876', 'kpt_877', 'kpt_878', 'kpt_879', 'kpt_880', 'kpt_881', 'kpt_882', 'kpt_883', 'kpt_884', 'kpt_885', 'kpt_886', 'kpt_887', 'kpt_888', 'kpt_889', 'kpt_890', 'kpt_891', 'kpt_892', 'kpt_893', 'kpt_894', 'kpt_895', 'kpt_896', 'kpt_897', 'kpt_898', 'kpt_899', 'kpt_900', 'kpt_901', 'kpt_902', 'kpt_903', 'kpt_904', 'kpt_905', 'kpt_906', 'kpt_907', 'kpt_908', 'kpt_909', 'kpt_910', 'kpt_911', 'kpt_912', 'kpt_913', 'kpt_914', 'kpt_915', 'kpt_916', 'kpt_917', 'kpt_918', 'kpt_919', 'kpt_920', 'kpt_921', 'kpt_922', 'kpt_923', 'kpt_924', 'kpt_925', 'kpt_926', 'kpt_927', 'kpt_928', 'kpt_929', 'kpt_930', 'kpt_931', 'kpt_932', 'kpt_933', 'kpt_934', 'kpt_935', 'kpt_936', 'kpt_937', 'kpt_938', 'kpt_939', 'kpt_940', 'kpt_941', 'kpt_942', 'kpt_943', 'kpt_944', 'kpt_945', 'kpt_946', 'kpt_947', 'kpt_948', 'kpt_949', 'kpt_950', 'kpt_951', 'kpt_952', 'kpt_953', 'kpt_954', 'kpt_955', 'kpt_956', 'kpt_957', 'kpt_958', 'kpt_959', 'kpt_960', 'kpt_961', 'kpt_962', 'kpt_963', 'kpt_964', 'kpt_965', 'kpt_966', 'kpt_967', 'kpt_968', 'kpt_969', 'kpt_970', 'kpt_971', 'kpt_972', 'kpt_973', 'kpt_974', 'kpt_975', 'kpt_976', 'kpt_977', 'kpt_978', 'kpt_979', 'kpt_980', 'kpt_981', 'kpt_982', 'kpt_983', 'kpt_984', 'kpt_985', 'kpt_986', 'kpt_987', 'kpt_988', 'kpt_989', 'kpt_990', 'kpt_991', 'kpt_992', 'kpt_993', 'kpt_994', 'kpt_995', 'kpt_996', 'kpt_997', 'kpt_998', 'kpt_999', 'kpt_1000', 'kpt_1001', 'kpt_1002', 'kpt_1003', 'kpt_1004', 'kpt_1005', 'kpt_1006', 'kpt_1007', 'kpt_1008', 'kpt_1009', 'kpt_1010', 'kpt_1011', 'kpt_1012', 'kpt_1013', 'kpt_1014', 'kpt_1015', 'kpt_1016', 'kpt_1017', 'kpt_1018', 'kpt_1019', 'kpt_1020', 'kpt_1021', 'kpt_1022', 'kpt_1023', 'kpt_1024', 'kpt_1025', 'kpt_1026', 'kpt_1027', 'kpt_1028', 'kpt_1029', 'kpt_1030', 'kpt_1031', 'kpt_1032', 'kpt_1033', 'kpt_1034', 'kpt_1035', 'kpt_1036', 'kpt_1037', 'kpt_1038', 'kpt_1039', 'kpt_1040', 'kpt_1041', 'kpt_1042', 'kpt_1043', 'kpt_1044', 'kpt_1045', 'kpt_1046', 'kpt_1047', 'kpt_1048', 'kpt_1049', 'kpt_1050', 'kpt_1051', 'kpt_1052', 'kpt_1053', 'kpt_1054', 'kpt_1055', 'kpt_1056', 'kpt_1057', 'kpt_1058', 'kpt_1059', 'kpt_1060', 'kpt_1061', 'kpt_1062', 'kpt_1063', 'kpt_1064', 'kpt_1065', 'kpt_1066', 'kpt_1067', 'kpt_1068', 'kpt_1069', 'kpt_1070', 'kpt_1071', 'kpt_1072', 'kpt_1073', 'kpt_1074', 'kpt_1075', 'kpt_1076', 'kpt_1077', 'kpt_1078', 'kpt_1079', 'kpt_1080', 'kpt_1081', 'kpt_1082', 'kpt_1083', 'kpt_1084', 'kpt_1085', 'kpt_1086', 'kpt_1087', 'kpt_1088', 'kpt_1089', 'kpt_1090', 'kpt_1091', 'kpt_1092', 'kpt_1093', 'kpt_1094', 'kpt_1095', 'kpt_1096', 'kpt_1097', 'kpt_1098', 'kpt_1099', 'kpt_1100', 'kpt_1101', 'kpt_1102', 'kpt_1103', 'kpt_1104', 'kpt_1105', 'kpt_1106', 'kpt_1107', 'kpt_1108', 'kpt_1109', 'kpt_1110', 'kpt_1111', 'kpt_1112', 'kpt_1113', 'kpt_1114', 'kpt_1115', 'kpt_1116', 'kpt_1117', 'kpt_1118', 'kpt_1119', 'kpt_1120', 'kpt_1121', 'kpt_1122', 'kpt_1123', 'kpt_1124', 'kpt_1125', 'kpt_1126', 'kpt_1127', 'kpt_1128', 'kpt_1129', 'kpt_1130', 'kpt_1131', 'kpt_1132', 'kpt_1133', 'kpt_1134', 'kpt_1135', 'kpt_1136', 'kpt_1137', 'kpt_1138', 'kpt_1139', 'kpt_1140', 'kpt_1141', 'kpt_1142', 'kpt_1143', 'kpt_1144', 'kpt_1145', 'kpt_1146', 'kpt_1147', 'kpt_1148', 'kpt_1149', 'kpt_1150', 'kpt_1151', 'kpt_1152', 'kpt_1153', 'kpt_1154', 'kpt_1155', 'kpt_1156', 'kpt_1157', 'kpt_1158', 'kpt_1159', 'kpt_1160', 'kpt_1161', 'kpt_1162', 'kpt_1163', 'kpt_1164', 'kpt_1165', 'kpt_1166', 'kpt_1167', 'kpt_1168', 'kpt_1169', 'kpt_1170', 'kpt_1171', 'kpt_1172', 'kpt_1173', 'kpt_1174', 'kpt_1175', 'kpt_1176', 'kpt_1177', 'kpt_1178', 'kpt_1179', 'kpt_1180', 'kpt_1181', 'kpt_1182', 'kpt_1183', 'kpt_1184', 'kpt_1185', 'kpt_1186', 'kpt_1187', 'kpt_1188', 'kpt_1189', 'kpt_1190', 'kpt_1191', 'kpt_1192', 'kpt_1193', 'kpt_1194', 'kpt_1195', 'kpt_1196', 'kpt_1197', 'kpt_1198', 'kpt_1199', 'kpt_1200', 'kpt_1201', 'kpt_1202', 'kpt_1203', 'kpt_1204', 'kpt_1205', 'kpt_1206', 'kpt_1207', 'kpt_1208', 'kpt_1209', 'kpt_1210', 'kpt_1211', 'kpt_1212', 'kpt_1213', 'kpt_1214', 'kpt_1215', 'kpt_1216', 'kpt_1217', 'kpt_1218', 'kpt_1219', 'kpt_1220', 'kpt_1221', 'kpt_1222', 'kpt_1223', 'kpt_1224', 'kpt_1225', 'kpt_1226', 'kpt_1227', 'kpt_1228', 'kpt_1229', 'kpt_1230', 'kpt_1231', 'kpt_1232', 'kpt_1233', 'kpt_1234', 'kpt_1235', 'kpt_1236', 'kpt_1237', 'kpt_1238', 'kpt_1239', 'kpt_1240', 'kpt_1241', 'kpt_1242', 'kpt_1243', 'kpt_1244', 'kpt_1245', 'kpt_1246', 'kpt_1247', 'kpt_1248', 'kpt_1249', 'kpt_1250', 'kpt_1251', 'kpt_1252', 'kpt_1253', 'kpt_1254', 'kpt_1255', 'kpt_1256', 'kpt_1257', 'kpt_1258', 'kpt_1259', 'kpt_1260', 'kpt_1261', 'kpt_1262', 'kpt_1263', 'kpt_1264', 'kpt_1265', 'kpt_1266', 'kpt_1267', 'kpt_1268', 'kpt_1269', 'kpt_1270', 'kpt_1271', 'kpt_1272', 'kpt_1273', 'kpt_1274', 'kpt_1275', 'kpt_1276', 'kpt_1277', 'kpt_1278', 'kpt_1279', 'kpt_1280', 'kpt_1281', 'kpt_1282', 'kpt_1283', 'kpt_1284', 'kpt_1285', 'kpt_1286', 'kpt_1287', 'kpt_1288', 'kpt_1289', 'kpt_1290', 'kpt_1291', 'kpt_1292', 'kpt_1293', 'kpt_1294', 'kpt_1295', 'kpt_1296', 'kpt_1297', 'kpt_1298', 'kpt_1299', 'kpt_1300', 'kpt_1301', 'kpt_1302', 'kpt_1303', 'kpt_1304', 'kpt_1305', 'kpt_1306', 'kpt_1307', 'kpt_1308', 'kpt_1309', 'kpt_1310', 'kpt_1311', 'kpt_1312', 'kpt_1313', 'kpt_1314', 'kpt_1315', 'kpt_1316', 'kpt_1317', 'kpt_1318', 'kpt_1319', 'kpt_1320', 'kpt_1321', 'kpt_1322', 'kpt_1323', 'kpt_1324', 'kpt_1325', 'kpt_1326', 'kpt_1327', 'kpt_1328', 'kpt_1329', 'kpt_1330', 'kpt_1331', 'kpt_1332', 'kpt_1333', 'kpt_1334', 'kpt_1335', 'kpt_1336', 'kpt_1337', 'kpt_1338', 'kpt_1339', 'kpt_1340', 'kpt_1341', 'kpt_1342', 'kpt_1343', 'kpt_1344', 'kpt_1345', 'kpt_1346', 'kpt_1347', 'kpt_1348', 'kpt_1349', 'kpt_1350', 'kpt_1351', 'kpt_1352', 'kpt_1353', 'kpt_1354', 'kpt_1355', 'kpt_1356', 'kpt_1357', 'kpt_1358', 'kpt_1359', 'kpt_1360', 'kpt_1361', 'kpt_1362', 'kpt_1363', 'kpt_1364', 'kpt_1365', 'kpt_1366', 'kpt_1367', 'kpt_1368', 'kpt_1369', 'kpt_1370', 'kpt_1371', 'kpt_1372', 'kpt_1373', 'kpt_1374', 'kpt_1375', 'kpt_1376', 'kpt_1377', 'kpt_1378', 'kpt_1379', 'kpt_1380', 'kpt_1381', 'kpt_1382', 'kpt_1383', 'kpt_1384', 'kpt_1385', 'kpt_1386', 'kpt_1387', 'kpt_1388', 'kpt_1389', 'kpt_1390', 'kpt_1391', 'kpt_1392', 'kpt_1393', 'kpt_1394', 'kpt_1395', 'kpt_1396', 'kpt_1397', 'kpt_1398', 'kpt_1399', 'kpt_1400', 'kpt_1401', 'kpt_1402', 'kpt_1403', 'kpt_1404', 'kpt_1405', 'kpt_1406', 'kpt_1407', 'kpt_1408', 'kpt_1409', 'kpt_1410', 'kpt_1411', 'kpt_1412', 'kpt_1413', 'kpt_1414', 'kpt_1415', 'kpt_1416', 'kpt_1417', 'kpt_1418', 'kpt_1419', 'kpt_1420', 'kpt_1421', 'kpt_1422', 'kpt_1423', 'kpt_1424', 'kpt_1425', 'kpt_1426', 'kpt_1427', 'kpt_1428', 'kpt_1429', 'kpt_1430', 'kpt_1431', 'kpt_1432', 'kpt_1433', 'kpt_1434', 'kpt_1435', 'kpt_1436', 'kpt_1437', 'kpt_1438', 'kpt_1439', 'kpt_1440', 'kpt_1441', 'kpt_1442', 'kpt_1443', 'kpt_1444', 'kpt_1445', 'kpt_1446', 'kpt_1447', 'kpt_1448', 'kpt_1449', 'kpt_1450', 'kpt_1451', 'kpt_1452', 'kpt_1453', 'kpt_1454', 'kpt_1455', 'kpt_1456', 'kpt_1457', 'kpt_1458', 'kpt_1459', 'kpt_1460', 'kpt_1461', 'kpt_1462', 'kpt_1463', 'kpt_1464', 'kpt_1465', 'kpt_1466', 'kpt_1467', 'kpt_1468', 'kpt_1469', 'kpt_1470', 'kpt_1471', 'kpt_1472', 'kpt_1473', 'kpt_1474', 'kpt_1475', 'kpt_1476', 'kpt_1477', 'kpt_1478', 'kpt_1479', 'kpt_1480', 'kpt_1481', 'kpt_1482', 'kpt_1483', 'kpt_1484', 'kpt_1485', 'kpt_1486', 'kpt_1487', 'kpt_1488', 'kpt_1489', 'kpt_1490', 'kpt_1491', 'kpt_1492', 'kpt_1493', 'kpt_1494', 'kpt_1495', 'kpt_1496', 'kpt_1497', 'kpt_1498', 'kpt_1499', 'kpt_1500', 'kpt_1501', 'kpt_1502', 'kpt_1503', 'kpt_1504', 'kpt_1505', 'kpt_1506', 'kpt_1507', 'kpt_1508', 'kpt_1509', 'kpt_1510', 'kpt_1511', 'kpt_1512', 'kpt_1513', 'kpt_1514', 'kpt_1515', 'kpt_1516', 'kpt_1517', 'kpt_1518', 'kpt_1519', 'kpt_1520', 'kpt_1521', 'kpt_1522', 'kpt_1523', 'kpt_1524', 'kpt_1525', 'kpt_1526', 'kpt_1527', 'kpt_1528', 'kpt_1529', 'kpt_1530', 'kpt_1531', 'kpt_1532', 'kpt_1533', 'kpt_1534', 'kpt_1535', 'kpt_1536', 'kpt_1537', 'kpt_1538', 'kpt_1539', 'kpt_1540', 'kpt_1541', 'kpt_1542', 'kpt_1543', 'kpt_1544', 'kpt_1545', 'kpt_1546', 'kpt_1547', 'kpt_1548', 'kpt_1549', 'kpt_1550', 'kpt_1551', 'kpt_1552', 'kpt_1553', 'kpt_1554', 'kpt_1555', 'kpt_1556', 'kpt_1557', 'kpt_1558', 'kpt_1559', 'kpt_1560', 'kpt_1561', 'kpt_1562', 'kpt_1563', 'kpt_1564', 'kpt_1565', 'kpt_1566', 'kpt_1567', 'kpt_1568', 'kpt_1569', 'kpt_1570', 'kpt_1571', 'kpt_1572', 'kpt_1573', 'kpt_1574', 'kpt_1575', 'kpt_1576', 'kpt_1577', 'kpt_1578', 'kpt_1579', 'kpt_1580', 'kpt_1581', 'kpt_1582', 'kpt_1583', 'kpt_1584', 'kpt_1585', 'kpt_1586', 'kpt_1587', 'kpt_1588', 'kpt_1589', 'kpt_1590', 'kpt_1591', 'kpt_1592', 'kpt_1593', 'kpt_1594', 'kpt_1595', 'kpt_1596', 'kpt_1597', 'kpt_1598', 'kpt_1599', 'kpt_1600', 'kpt_1601', 'kpt_1602', 'kpt_1603', 'kpt_1604', 'kpt_1605', 'kpt_1606', 'kpt_1607', 'kpt_1608', 'kpt_1609', 'kpt_1610', 'kpt_1611', 'kpt_1612', 'kpt_1613', 'kpt_1614', 'kpt_1615', 'kpt_1616', 'kpt_1617', 'kpt_1618', 'kpt_1619', 'kpt_1620', 'kpt_1621', 'kpt_1622', 'kpt_1623', 'kpt_1624', 'kpt_1625', 'kpt_1626', 'kpt_1627', 'kpt_1628', 'label']\n",
            "✅ Combined dataset saved.\n"
          ]
        }
      ]
    },
    {
      "cell_type": "code",
      "source": [
        "# Reload combined CSV\n",
        "df = pd.read_csv(\"/content/combined_keypoints.csv\")\n",
        "\n",
        "# Drop rows with missing labels safely\n",
        "df = df.dropna(subset=['label']).copy()\n",
        "\n",
        "# Convert label to int\n",
        "df['label'] = df['label'].astype(int)\n",
        "\n",
        "print(\"✅ Cleaned data shape:\", df.shape)\n",
        "print(\"✅ Unique labels:\", df['label'].unique())\n"
      ],
      "metadata": {
        "colab": {
          "base_uri": "https://localhost:8080/"
        },
        "id": "q40-TCnHfiBo",
        "outputId": "2387036d-4a21-4082-f6b7-6d1e12a6e73a"
      },
      "execution_count": 10,
      "outputs": [
        {
          "output_type": "stream",
          "name": "stdout",
          "text": [
            "✅ Cleaned data shape: (66320, 1634)\n",
            "✅ Unique labels: [1 0]\n"
          ]
        }
      ]
    },
    {
      "cell_type": "code",
      "source": [
        "from sklearn.preprocessing import StandardScaler\n",
        "\n",
        "scaler = StandardScaler()\n",
        "X_train = scaler.fit_transform(X_train)\n",
        "X_test = scaler.transform(X_test)\n"
      ],
      "metadata": {
        "id": "TB-o9nNGj2vb"
      },
      "execution_count": 13,
      "outputs": []
    },
    {
      "cell_type": "code",
      "source": [
        "import numpy as np\n",
        "print(\"Unique labels:\", np.unique(y_train))\n",
        "print(\"Any NaNs in labels?\", np.isnan(y_train).sum())\n"
      ],
      "metadata": {
        "colab": {
          "base_uri": "https://localhost:8080/"
        },
        "id": "zF3ztNlm4ZJX",
        "outputId": "10a32cc5-8871-484e-cd8a-8b376364fe93"
      },
      "execution_count": 12,
      "outputs": [
        {
          "output_type": "stream",
          "name": "stdout",
          "text": [
            "Unique labels: [0 1]\n",
            "Any NaNs in labels? 0\n"
          ]
        }
      ]
    },
    {
      "cell_type": "code",
      "source": [
        "import pandas as pd\n",
        "import numpy as np\n",
        "from sklearn.model_selection import train_test_split\n",
        "from sklearn.utils.class_weight import compute_class_weight\n",
        "from sklearn.preprocessing import MinMaxScaler\n",
        "from keras.models import Sequential\n",
        "from keras.layers import LSTM, Dropout, Dense, BatchNormalization, Input\n",
        "from keras.callbacks import EarlyStopping\n",
        "import tensorflow as tf\n",
        "\n",
        "# ✅ Step 1: Load only first and last 10,000 rows\n",
        "df = pd.read_csv(\"/content/combined_keypoints.csv\")  # Your combined CSV\n",
        "df = pd.concat([df.iloc[:10000], df.iloc[-10000:]]).reset_index(drop=True)\n",
        "\n",
        "# ✅ Step 2: Clean any NaNs if present\n",
        "df = df.dropna()\n",
        "df['label'] = df['label'].astype(int)\n",
        "\n",
        "# ✅ Step 3: Split X, y\n",
        "X = df.drop(columns=[\"label\", \"image\"]).values.reshape(df.shape[0], 1, -1)  # LSTM shape\n",
        "y = df['label'].values\n",
        "\n",
        "# ✅ Step 4: Normalize features\n",
        "scaler = MinMaxScaler()\n",
        "X = scaler.fit_transform(X.reshape(X.shape[0], -1)).reshape(X.shape)\n",
        "\n",
        "# ✅ Step 5: Train-test split\n",
        "X_train, X_test, y_train, y_test = train_test_split(\n",
        "    X, y, test_size=0.2, random_state=42, stratify=y\n",
        ")\n",
        "\n",
        "# ✅ Step 6: Compute class weights\n",
        "weights = compute_class_weight(class_weight='balanced', classes=np.unique(y_train), y=y_train)\n",
        "class_weights = dict(enumerate(weights))\n",
        "print(\"Class Weights:\", class_weights)\n",
        "\n",
        "# ✅ Step 7: Build LSTM model\n",
        "model = Sequential([\n",
        "    Input(shape=(X.shape[1], X.shape[2])),\n",
        "    LSTM(128, return_sequences=True),\n",
        "    Dropout(0.3),\n",
        "    LSTM(64),\n",
        "    BatchNormalization(),\n",
        "    Dense(32, activation='relu'),\n",
        "    Dropout(0.2),\n",
        "    Dense(1, activation='sigmoid')\n",
        "])\n",
        "\n",
        "model.compile(loss='binary_crossentropy', optimizer='adam', metrics=['accuracy'])\n",
        "model.summary()\n",
        "\n",
        "# ✅ Step 8: Train model\n",
        "early_stop = EarlyStopping(patience=3, restore_best_weights=True)\n",
        "history = model.fit(\n",
        "    X_train, y_train,\n",
        "    validation_data=(X_test, y_test),\n",
        "    epochs=15,\n",
        "    batch_size=64,\n",
        "    class_weight=class_weights,\n",
        "    callbacks=[early_stop],\n",
        "    verbose=1\n",
        ")\n",
        "\n",
        "# ✅ Step 9: Save model\n",
        "model.save(\"driver_drowsiness_lstm_balanced.h5\")\n",
        "print(\"✅ Model saved!\")\n"
      ],
      "metadata": {
        "colab": {
          "base_uri": "https://localhost:8080/",
          "height": 788
        },
        "id": "B8xU7q6KvOOa",
        "outputId": "6616303c-cc96-41f8-f821-66a7355139ab"
      },
      "execution_count": 5,
      "outputs": [
        {
          "output_type": "stream",
          "name": "stdout",
          "text": [
            "Class Weights: {0: np.float64(0.6455839737936248), 1: np.float64(2.2172219818260492)}\n"
          ]
        },
        {
          "output_type": "display_data",
          "data": {
            "text/plain": [
              "\u001b[1mModel: \"sequential\"\u001b[0m\n"
            ],
            "text/html": [
              "<pre style=\"white-space:pre;overflow-x:auto;line-height:normal;font-family:Menlo,'DejaVu Sans Mono',consolas,'Courier New',monospace\"><span style=\"font-weight: bold\">Model: \"sequential\"</span>\n",
              "</pre>\n"
            ]
          },
          "metadata": {}
        },
        {
          "output_type": "display_data",
          "data": {
            "text/plain": [
              "┏━━━━━━━━━━━━━━━━━━━━━━━━━━━━━━━━━┳━━━━━━━━━━━━━━━━━━━━━━━━┳━━━━━━━━━━━━━━━┓\n",
              "┃\u001b[1m \u001b[0m\u001b[1mLayer (type)                   \u001b[0m\u001b[1m \u001b[0m┃\u001b[1m \u001b[0m\u001b[1mOutput Shape          \u001b[0m\u001b[1m \u001b[0m┃\u001b[1m \u001b[0m\u001b[1m      Param #\u001b[0m\u001b[1m \u001b[0m┃\n",
              "┡━━━━━━━━━━━━━━━━━━━━━━━━━━━━━━━━━╇━━━━━━━━━━━━━━━━━━━━━━━━╇━━━━━━━━━━━━━━━┩\n",
              "│ lstm (\u001b[38;5;33mLSTM\u001b[0m)                     │ (\u001b[38;5;45mNone\u001b[0m, \u001b[38;5;34m1\u001b[0m, \u001b[38;5;34m128\u001b[0m)         │       \u001b[38;5;34m901,632\u001b[0m │\n",
              "├─────────────────────────────────┼────────────────────────┼───────────────┤\n",
              "│ dropout (\u001b[38;5;33mDropout\u001b[0m)               │ (\u001b[38;5;45mNone\u001b[0m, \u001b[38;5;34m1\u001b[0m, \u001b[38;5;34m128\u001b[0m)         │             \u001b[38;5;34m0\u001b[0m │\n",
              "├─────────────────────────────────┼────────────────────────┼───────────────┤\n",
              "│ lstm_1 (\u001b[38;5;33mLSTM\u001b[0m)                   │ (\u001b[38;5;45mNone\u001b[0m, \u001b[38;5;34m64\u001b[0m)             │        \u001b[38;5;34m49,408\u001b[0m │\n",
              "├─────────────────────────────────┼────────────────────────┼───────────────┤\n",
              "│ batch_normalization             │ (\u001b[38;5;45mNone\u001b[0m, \u001b[38;5;34m64\u001b[0m)             │           \u001b[38;5;34m256\u001b[0m │\n",
              "│ (\u001b[38;5;33mBatchNormalization\u001b[0m)            │                        │               │\n",
              "├─────────────────────────────────┼────────────────────────┼───────────────┤\n",
              "│ dense (\u001b[38;5;33mDense\u001b[0m)                   │ (\u001b[38;5;45mNone\u001b[0m, \u001b[38;5;34m32\u001b[0m)             │         \u001b[38;5;34m2,080\u001b[0m │\n",
              "├─────────────────────────────────┼────────────────────────┼───────────────┤\n",
              "│ dropout_1 (\u001b[38;5;33mDropout\u001b[0m)             │ (\u001b[38;5;45mNone\u001b[0m, \u001b[38;5;34m32\u001b[0m)             │             \u001b[38;5;34m0\u001b[0m │\n",
              "├─────────────────────────────────┼────────────────────────┼───────────────┤\n",
              "│ dense_1 (\u001b[38;5;33mDense\u001b[0m)                 │ (\u001b[38;5;45mNone\u001b[0m, \u001b[38;5;34m1\u001b[0m)              │            \u001b[38;5;34m33\u001b[0m │\n",
              "└─────────────────────────────────┴────────────────────────┴───────────────┘\n"
            ],
            "text/html": [
              "<pre style=\"white-space:pre;overflow-x:auto;line-height:normal;font-family:Menlo,'DejaVu Sans Mono',consolas,'Courier New',monospace\">┏━━━━━━━━━━━━━━━━━━━━━━━━━━━━━━━━━┳━━━━━━━━━━━━━━━━━━━━━━━━┳━━━━━━━━━━━━━━━┓\n",
              "┃<span style=\"font-weight: bold\"> Layer (type)                    </span>┃<span style=\"font-weight: bold\"> Output Shape           </span>┃<span style=\"font-weight: bold\">       Param # </span>┃\n",
              "┡━━━━━━━━━━━━━━━━━━━━━━━━━━━━━━━━━╇━━━━━━━━━━━━━━━━━━━━━━━━╇━━━━━━━━━━━━━━━┩\n",
              "│ lstm (<span style=\"color: #0087ff; text-decoration-color: #0087ff\">LSTM</span>)                     │ (<span style=\"color: #00d7ff; text-decoration-color: #00d7ff\">None</span>, <span style=\"color: #00af00; text-decoration-color: #00af00\">1</span>, <span style=\"color: #00af00; text-decoration-color: #00af00\">128</span>)         │       <span style=\"color: #00af00; text-decoration-color: #00af00\">901,632</span> │\n",
              "├─────────────────────────────────┼────────────────────────┼───────────────┤\n",
              "│ dropout (<span style=\"color: #0087ff; text-decoration-color: #0087ff\">Dropout</span>)               │ (<span style=\"color: #00d7ff; text-decoration-color: #00d7ff\">None</span>, <span style=\"color: #00af00; text-decoration-color: #00af00\">1</span>, <span style=\"color: #00af00; text-decoration-color: #00af00\">128</span>)         │             <span style=\"color: #00af00; text-decoration-color: #00af00\">0</span> │\n",
              "├─────────────────────────────────┼────────────────────────┼───────────────┤\n",
              "│ lstm_1 (<span style=\"color: #0087ff; text-decoration-color: #0087ff\">LSTM</span>)                   │ (<span style=\"color: #00d7ff; text-decoration-color: #00d7ff\">None</span>, <span style=\"color: #00af00; text-decoration-color: #00af00\">64</span>)             │        <span style=\"color: #00af00; text-decoration-color: #00af00\">49,408</span> │\n",
              "├─────────────────────────────────┼────────────────────────┼───────────────┤\n",
              "│ batch_normalization             │ (<span style=\"color: #00d7ff; text-decoration-color: #00d7ff\">None</span>, <span style=\"color: #00af00; text-decoration-color: #00af00\">64</span>)             │           <span style=\"color: #00af00; text-decoration-color: #00af00\">256</span> │\n",
              "│ (<span style=\"color: #0087ff; text-decoration-color: #0087ff\">BatchNormalization</span>)            │                        │               │\n",
              "├─────────────────────────────────┼────────────────────────┼───────────────┤\n",
              "│ dense (<span style=\"color: #0087ff; text-decoration-color: #0087ff\">Dense</span>)                   │ (<span style=\"color: #00d7ff; text-decoration-color: #00d7ff\">None</span>, <span style=\"color: #00af00; text-decoration-color: #00af00\">32</span>)             │         <span style=\"color: #00af00; text-decoration-color: #00af00\">2,080</span> │\n",
              "├─────────────────────────────────┼────────────────────────┼───────────────┤\n",
              "│ dropout_1 (<span style=\"color: #0087ff; text-decoration-color: #0087ff\">Dropout</span>)             │ (<span style=\"color: #00d7ff; text-decoration-color: #00d7ff\">None</span>, <span style=\"color: #00af00; text-decoration-color: #00af00\">32</span>)             │             <span style=\"color: #00af00; text-decoration-color: #00af00\">0</span> │\n",
              "├─────────────────────────────────┼────────────────────────┼───────────────┤\n",
              "│ dense_1 (<span style=\"color: #0087ff; text-decoration-color: #0087ff\">Dense</span>)                 │ (<span style=\"color: #00d7ff; text-decoration-color: #00d7ff\">None</span>, <span style=\"color: #00af00; text-decoration-color: #00af00\">1</span>)              │            <span style=\"color: #00af00; text-decoration-color: #00af00\">33</span> │\n",
              "└─────────────────────────────────┴────────────────────────┴───────────────┘\n",
              "</pre>\n"
            ]
          },
          "metadata": {}
        },
        {
          "output_type": "display_data",
          "data": {
            "text/plain": [
              "\u001b[1m Total params: \u001b[0m\u001b[38;5;34m953,409\u001b[0m (3.64 MB)\n"
            ],
            "text/html": [
              "<pre style=\"white-space:pre;overflow-x:auto;line-height:normal;font-family:Menlo,'DejaVu Sans Mono',consolas,'Courier New',monospace\"><span style=\"font-weight: bold\"> Total params: </span><span style=\"color: #00af00; text-decoration-color: #00af00\">953,409</span> (3.64 MB)\n",
              "</pre>\n"
            ]
          },
          "metadata": {}
        },
        {
          "output_type": "display_data",
          "data": {
            "text/plain": [
              "\u001b[1m Trainable params: \u001b[0m\u001b[38;5;34m953,281\u001b[0m (3.64 MB)\n"
            ],
            "text/html": [
              "<pre style=\"white-space:pre;overflow-x:auto;line-height:normal;font-family:Menlo,'DejaVu Sans Mono',consolas,'Courier New',monospace\"><span style=\"font-weight: bold\"> Trainable params: </span><span style=\"color: #00af00; text-decoration-color: #00af00\">953,281</span> (3.64 MB)\n",
              "</pre>\n"
            ]
          },
          "metadata": {}
        },
        {
          "output_type": "display_data",
          "data": {
            "text/plain": [
              "\u001b[1m Non-trainable params: \u001b[0m\u001b[38;5;34m128\u001b[0m (512.00 B)\n"
            ],
            "text/html": [
              "<pre style=\"white-space:pre;overflow-x:auto;line-height:normal;font-family:Menlo,'DejaVu Sans Mono',consolas,'Courier New',monospace\"><span style=\"font-weight: bold\"> Non-trainable params: </span><span style=\"color: #00af00; text-decoration-color: #00af00\">128</span> (512.00 B)\n",
              "</pre>\n"
            ]
          },
          "metadata": {}
        },
        {
          "output_type": "stream",
          "name": "stdout",
          "text": [
            "Epoch 1/15\n",
            "\u001b[1m161/161\u001b[0m \u001b[32m━━━━━━━━━━━━━━━━━━━━\u001b[0m\u001b[37m\u001b[0m \u001b[1m16s\u001b[0m 64ms/step - accuracy: 0.4538 - loss: 0.7392 - val_accuracy: 0.7745 - val_loss: 0.6759\n",
            "Epoch 2/15\n",
            "\u001b[1m161/161\u001b[0m \u001b[32m━━━━━━━━━━━━━━━━━━━━\u001b[0m\u001b[37m\u001b[0m \u001b[1m14s\u001b[0m 23ms/step - accuracy: 0.5113 - loss: 0.7091 - val_accuracy: 0.7745 - val_loss: 0.6644\n",
            "Epoch 3/15\n",
            "\u001b[1m161/161\u001b[0m \u001b[32m━━━━━━━━━━━━━━━━━━━━\u001b[0m\u001b[37m\u001b[0m \u001b[1m6s\u001b[0m 35ms/step - accuracy: 0.5256 - loss: 0.6834 - val_accuracy: 0.7850 - val_loss: 0.6410\n",
            "Epoch 4/15\n",
            "\u001b[1m161/161\u001b[0m \u001b[32m━━━━━━━━━━━━━━━━━━━━\u001b[0m\u001b[37m\u001b[0m \u001b[1m4s\u001b[0m 24ms/step - accuracy: 0.5221 - loss: 0.6820 - val_accuracy: 0.7831 - val_loss: 0.5946\n",
            "Epoch 5/15\n",
            "\u001b[1m161/161\u001b[0m \u001b[32m━━━━━━━━━━━━━━━━━━━━\u001b[0m\u001b[37m\u001b[0m \u001b[1m4s\u001b[0m 22ms/step - accuracy: 0.5312 - loss: 0.6711 - val_accuracy: 0.7456 - val_loss: 0.5272\n",
            "Epoch 6/15\n",
            "\u001b[1m161/161\u001b[0m \u001b[32m━━━━━━━━━━━━━━━━━━━━\u001b[0m\u001b[37m\u001b[0m \u001b[1m6s\u001b[0m 29ms/step - accuracy: 0.5409 - loss: 0.6647 - val_accuracy: 0.3890 - val_loss: 0.6958\n",
            "Epoch 7/15\n",
            "\u001b[1m161/161\u001b[0m \u001b[32m━━━━━━━━━━━━━━━━━━━━\u001b[0m\u001b[37m\u001b[0m \u001b[1m5s\u001b[0m 30ms/step - accuracy: 0.5760 - loss: 0.6563 - val_accuracy: 0.7901 - val_loss: 0.5168\n",
            "Epoch 8/15\n",
            "\u001b[1m161/161\u001b[0m \u001b[32m━━━━━━━━━━━━━━━━━━━━\u001b[0m\u001b[37m\u001b[0m \u001b[1m4s\u001b[0m 22ms/step - accuracy: 0.5468 - loss: 0.6560 - val_accuracy: 0.6594 - val_loss: 0.5671\n",
            "Epoch 9/15\n",
            "\u001b[1m161/161\u001b[0m \u001b[32m━━━━━━━━━━━━━━━━━━━━\u001b[0m\u001b[37m\u001b[0m \u001b[1m3s\u001b[0m 21ms/step - accuracy: 0.5695 - loss: 0.6333 - val_accuracy: 0.4464 - val_loss: 0.6876\n",
            "Epoch 10/15\n",
            "\u001b[1m161/161\u001b[0m \u001b[32m━━━━━━━━━━━━━━━━━━━━\u001b[0m\u001b[37m\u001b[0m \u001b[1m7s\u001b[0m 35ms/step - accuracy: 0.5459 - loss: 0.6412 - val_accuracy: 0.5045 - val_loss: 0.6271\n"
          ]
        },
        {
          "output_type": "stream",
          "name": "stderr",
          "text": [
            "WARNING:absl:You are saving your model as an HDF5 file via `model.save()` or `keras.saving.save_model(model)`. This file format is considered legacy. We recommend using instead the native Keras format, e.g. `model.save('my_model.keras')` or `keras.saving.save_model(model, 'my_model.keras')`. \n"
          ]
        },
        {
          "output_type": "stream",
          "name": "stdout",
          "text": [
            "✅ Model saved!\n"
          ]
        }
      ]
    },
    {
      "cell_type": "code",
      "source": [
        "loss, acc = model.evaluate(X_test, y_test)\n",
        "print(f\"Test Accuracy: {acc:.2f} | Loss: {loss:.2f}\")\n"
      ],
      "metadata": {
        "colab": {
          "base_uri": "https://localhost:8080/"
        },
        "id": "Q6eUwi85yhvi",
        "outputId": "9935c645-432b-4671-afc9-1f7e6eb84dee"
      },
      "execution_count": 6,
      "outputs": [
        {
          "output_type": "stream",
          "name": "stdout",
          "text": [
            "\u001b[1m81/81\u001b[0m \u001b[32m━━━━━━━━━━━━━━━━━━━━\u001b[0m\u001b[37m\u001b[0m \u001b[1m1s\u001b[0m 11ms/step - accuracy: 0.7997 - loss: 0.5128\n",
            "Test Accuracy: 0.79 | Loss: 0.52\n"
          ]
        }
      ]
    },
    {
      "cell_type": "code",
      "source": [
        "import matplotlib.pyplot as plt\n",
        "\n",
        "plt.plot(history.history['accuracy'], label='Train Acc')\n",
        "plt.plot(history.history['val_accuracy'], label='Val Acc')\n",
        "plt.plot(history.history['loss'], label='Train Loss')\n",
        "plt.plot(history.history['val_loss'], label='Val Loss')\n",
        "plt.legend()\n",
        "plt.title(\"Training Performance\")\n",
        "plt.show()\n"
      ],
      "metadata": {
        "colab": {
          "base_uri": "https://localhost:8080/",
          "height": 452
        },
        "id": "lwVFu4YJ0JXZ",
        "outputId": "f27f9e13-9375-42f4-c967-f4d8623bb205"
      },
      "execution_count": 7,
      "outputs": [
        {
          "output_type": "display_data",
          "data": {
            "text/plain": [
              "<Figure size 640x480 with 1 Axes>"
            ],
            "image/png": "[encoded data removed]"
          },
          "metadata": {}
        }
      ]
    },
    {
      "cell_type": "code",
      "source": [
        "y_pred = model.predict(X_test).round().astype(int).flatten()\n",
        "pd.DataFrame({'y_true': y_test, 'y_pred': y_pred}).to_csv(\"predictions.csv\", index=False)\n"
      ],
      "metadata": {
        "colab": {
          "base_uri": "https://localhost:8080/"
        },
        "id": "hzHwZWBB0Mju",
        "outputId": "74050c41-096e-41c6-d25d-69373bef1998"
      },
      "execution_count": 8,
      "outputs": [
        {
          "output_type": "stream",
          "name": "stdout",
          "text": [
            "\u001b[1m81/81\u001b[0m \u001b[32m━━━━━━━━━━━━━━━━━━━━\u001b[0m\u001b[37m\u001b[0m \u001b[1m2s\u001b[0m 21ms/step\n"
          ]
        }
      ]
    },
    {
      "cell_type": "code",
      "source": [
        "model.save(\"driver_model.keras\")  # Preferred\n"
      ],
      "metadata": {
        "id": "ERRG7fAE0UuC"
      },
      "execution_count": 9,
      "outputs": []
    },
    {
      "cell_type": "code",
      "source": [
        "import pandas as pd\n",
        "import numpy as np\n",
        "from sklearn.model_selection import train_test_split\n",
        "from sklearn.utils.class_weight import compute_class_weight\n",
        "from keras.models import Sequential\n",
        "from keras.layers import LSTM, Dense, Dropout, BatchNormalization, Bidirectional\n",
        "from keras.callbacks import EarlyStopping\n",
        "\n",
        "# ✅ Load your full dataset (replace path with your cleaned combined CSV)\n",
        "df = pd.read_csv('/content/combined_keypoints.csv')\n",
        "\n",
        "# ✅ Use first 15,000 and last 15,000 samples\n",
        "df = pd.concat([df.iloc[:15000], df.iloc[-15000:]]).reset_index(drop=True)\n",
        "\n",
        "# ✅ Prepare features and labels\n",
        "X = df.drop(['label'], axis=1).values\n",
        "y = df['label'].astype(int).values\n",
        "\n",
        "# ✅ Reshape for LSTM: [samples, timesteps, features]\n",
        "X = X.reshape((X.shape[0], 1, X.shape[1]))\n",
        "\n",
        "# ✅ Train-test split\n",
        "X_train, X_test, y_train, y_test = train_test_split(\n",
        "    X, y, test_size=0.2, stratify=y, random_state=42)\n",
        "\n",
        "# ✅ Compute class weights\n",
        "class_weights = compute_class_weight(\n",
        "    class_weight='balanced',\n",
        "    classes=np.unique(y_train),\n",
        "    y=y_train\n",
        ")\n",
        "class_weights_dict = dict(zip(np.unique(y_train), class_weights))\n",
        "print(\"Class weights:\", class_weights_dict)\n",
        "\n",
        "# ✅ Define BiLSTM model\n",
        "model = Sequential([\n",
        "    Bidirectional(LSTM(128, return_sequences=True), input_shape=(X.shape[1], X.shape[2])),\n",
        "    Dropout(0.3),\n",
        "    Bidirectional(LSTM(64)),\n",
        "    BatchNormalization(),\n",
        "    Dense(32, activation='relu'),\n",
        "    Dropout(0.3),\n",
        "    Dense(1, activation='sigmoid')\n",
        "])\n",
        "\n",
        "model.compile(optimizer='adam', loss='binary_crossentropy', metrics=['accuracy'])\n",
        "model.summary()\n",
        "\n",
        "# ✅ Train the model\n",
        "history = model.fit(\n",
        "    X_train, y_train,\n",
        "    validation_data=(X_test, y_test),\n",
        "    epochs=15,\n",
        "    batch_size=64,\n",
        "    class_weight=class_weights_dict,\n",
        "    callbacks=[EarlyStopping(patience=3, restore_best_weights=True)],\n",
        "    verbose=1\n",
        ")\n",
        "\n",
        "# ✅ Evaluate\n",
        "loss, acc = model.evaluate(X_test, y_test)\n",
        "print(f\"✅ Test Accuracy: {acc:.2f} | Loss: {loss:.2f}\")\n"
      ],
      "metadata": {
        "colab": {
          "base_uri": "https://localhost:8080/",
          "height": 927
        },
        "id": "RjHnHOPe1uRD",
        "outputId": "31066334-c4ed-4378-f41d-51ea8ea33822"
      },
      "execution_count": 2,
      "outputs": [
        {
          "output_type": "stream",
          "name": "stdout",
          "text": [
            "Class weights: {np.int64(0): np.float64(0.7638469284994964), np.int64(1): np.float64(1.4475190839694656)}\n"
          ]
        },
        {
          "output_type": "stream",
          "name": "stderr",
          "text": [
            "/usr/local/lib/python3.11/dist-packages/keras/src/layers/rnn/bidirectional.py:107: UserWarning: Do not pass an `input_shape`/`input_dim` argument to a layer. When using Sequential models, prefer using an `Input(shape)` object as the first layer in the model instead.\n",
            "  super().__init__(**kwargs)\n"
          ]
        },
        {
          "output_type": "display_data",
          "data": {
            "text/plain": [
              "\u001b[1mModel: \"sequential_1\"\u001b[0m\n"
            ],
            "text/html": [
              "<pre style=\"white-space:pre;overflow-x:auto;line-height:normal;font-family:Menlo,'DejaVu Sans Mono',consolas,'Courier New',monospace\"><span style=\"font-weight: bold\">Model: \"sequential_1\"</span>\n",
              "</pre>\n"
            ]
          },
          "metadata": {}
        },
        {
          "output_type": "display_data",
          "data": {
            "text/plain": [
              "┏━━━━━━━━━━━━━━━━━━━━━━━━━━━━━━━━━┳━━━━━━━━━━━━━━━━━━━━━━━━┳━━━━━━━━━━━━━━━┓\n",
              "┃\u001b[1m \u001b[0m\u001b[1mLayer (type)                   \u001b[0m\u001b[1m \u001b[0m┃\u001b[1m \u001b[0m\u001b[1mOutput Shape          \u001b[0m\u001b[1m \u001b[0m┃\u001b[1m \u001b[0m\u001b[1m      Param #\u001b[0m\u001b[1m \u001b[0m┃\n",
              "┡━━━━━━━━━━━━━━━━━━━━━━━━━━━━━━━━━╇━━━━━━━━━━━━━━━━━━━━━━━━╇━━━━━━━━━━━━━━━┩\n",
              "│ bidirectional_2 (\u001b[38;5;33mBidirectional\u001b[0m) │ (\u001b[38;5;45mNone\u001b[0m, \u001b[38;5;34m1\u001b[0m, \u001b[38;5;34m256\u001b[0m)         │     \u001b[38;5;34m1,803,264\u001b[0m │\n",
              "├─────────────────────────────────┼────────────────────────┼───────────────┤\n",
              "│ dropout_2 (\u001b[38;5;33mDropout\u001b[0m)             │ (\u001b[38;5;45mNone\u001b[0m, \u001b[38;5;34m1\u001b[0m, \u001b[38;5;34m256\u001b[0m)         │             \u001b[38;5;34m0\u001b[0m │\n",
              "├─────────────────────────────────┼────────────────────────┼───────────────┤\n",
              "│ bidirectional_3 (\u001b[38;5;33mBidirectional\u001b[0m) │ (\u001b[38;5;45mNone\u001b[0m, \u001b[38;5;34m128\u001b[0m)            │       \u001b[38;5;34m164,352\u001b[0m │\n",
              "├─────────────────────────────────┼────────────────────────┼───────────────┤\n",
              "│ batch_normalization_1           │ (\u001b[38;5;45mNone\u001b[0m, \u001b[38;5;34m128\u001b[0m)            │           \u001b[38;5;34m512\u001b[0m │\n",
              "│ (\u001b[38;5;33mBatchNormalization\u001b[0m)            │                        │               │\n",
              "├─────────────────────────────────┼────────────────────────┼───────────────┤\n",
              "│ dense_2 (\u001b[38;5;33mDense\u001b[0m)                 │ (\u001b[38;5;45mNone\u001b[0m, \u001b[38;5;34m32\u001b[0m)             │         \u001b[38;5;34m4,128\u001b[0m │\n",
              "├─────────────────────────────────┼────────────────────────┼───────────────┤\n",
              "│ dropout_3 (\u001b[38;5;33mDropout\u001b[0m)             │ (\u001b[38;5;45mNone\u001b[0m, \u001b[38;5;34m32\u001b[0m)             │             \u001b[38;5;34m0\u001b[0m │\n",
              "├─────────────────────────────────┼────────────────────────┼───────────────┤\n",
              "│ dense_3 (\u001b[38;5;33mDense\u001b[0m)                 │ (\u001b[38;5;45mNone\u001b[0m, \u001b[38;5;34m1\u001b[0m)              │            \u001b[38;5;34m33\u001b[0m │\n",
              "└─────────────────────────────────┴────────────────────────┴───────────────┘\n"
            ],
            "text/html": [
              "<pre style=\"white-space:pre;overflow-x:auto;line-height:normal;font-family:Menlo,'DejaVu Sans Mono',consolas,'Courier New',monospace\">┏━━━━━━━━━━━━━━━━━━━━━━━━━━━━━━━━━┳━━━━━━━━━━━━━━━━━━━━━━━━┳━━━━━━━━━━━━━━━┓\n",
              "┃<span style=\"font-weight: bold\"> Layer (type)                    </span>┃<span style=\"font-weight: bold\"> Output Shape           </span>┃<span style=\"font-weight: bold\">       Param # </span>┃\n",
              "┡━━━━━━━━━━━━━━━━━━━━━━━━━━━━━━━━━╇━━━━━━━━━━━━━━━━━━━━━━━━╇━━━━━━━━━━━━━━━┩\n",
              "│ bidirectional_2 (<span style=\"color: #0087ff; text-decoration-color: #0087ff\">Bidirectional</span>) │ (<span style=\"color: #00d7ff; text-decoration-color: #00d7ff\">None</span>, <span style=\"color: #00af00; text-decoration-color: #00af00\">1</span>, <span style=\"color: #00af00; text-decoration-color: #00af00\">256</span>)         │     <span style=\"color: #00af00; text-decoration-color: #00af00\">1,803,264</span> │\n",
              "├─────────────────────────────────┼────────────────────────┼───────────────┤\n",
              "│ dropout_2 (<span style=\"color: #0087ff; text-decoration-color: #0087ff\">Dropout</span>)             │ (<span style=\"color: #00d7ff; text-decoration-color: #00d7ff\">None</span>, <span style=\"color: #00af00; text-decoration-color: #00af00\">1</span>, <span style=\"color: #00af00; text-decoration-color: #00af00\">256</span>)         │             <span style=\"color: #00af00; text-decoration-color: #00af00\">0</span> │\n",
              "├─────────────────────────────────┼────────────────────────┼───────────────┤\n",
              "│ bidirectional_3 (<span style=\"color: #0087ff; text-decoration-color: #0087ff\">Bidirectional</span>) │ (<span style=\"color: #00d7ff; text-decoration-color: #00d7ff\">None</span>, <span style=\"color: #00af00; text-decoration-color: #00af00\">128</span>)            │       <span style=\"color: #00af00; text-decoration-color: #00af00\">164,352</span> │\n",
              "├─────────────────────────────────┼────────────────────────┼───────────────┤\n",
              "│ batch_normalization_1           │ (<span style=\"color: #00d7ff; text-decoration-color: #00d7ff\">None</span>, <span style=\"color: #00af00; text-decoration-color: #00af00\">128</span>)            │           <span style=\"color: #00af00; text-decoration-color: #00af00\">512</span> │\n",
              "│ (<span style=\"color: #0087ff; text-decoration-color: #0087ff\">BatchNormalization</span>)            │                        │               │\n",
              "├─────────────────────────────────┼────────────────────────┼───────────────┤\n",
              "│ dense_2 (<span style=\"color: #0087ff; text-decoration-color: #0087ff\">Dense</span>)                 │ (<span style=\"color: #00d7ff; text-decoration-color: #00d7ff\">None</span>, <span style=\"color: #00af00; text-decoration-color: #00af00\">32</span>)             │         <span style=\"color: #00af00; text-decoration-color: #00af00\">4,128</span> │\n",
              "├─────────────────────────────────┼────────────────────────┼───────────────┤\n",
              "│ dropout_3 (<span style=\"color: #0087ff; text-decoration-color: #0087ff\">Dropout</span>)             │ (<span style=\"color: #00d7ff; text-decoration-color: #00d7ff\">None</span>, <span style=\"color: #00af00; text-decoration-color: #00af00\">32</span>)             │             <span style=\"color: #00af00; text-decoration-color: #00af00\">0</span> │\n",
              "├─────────────────────────────────┼────────────────────────┼───────────────┤\n",
              "│ dense_3 (<span style=\"color: #0087ff; text-decoration-color: #0087ff\">Dense</span>)                 │ (<span style=\"color: #00d7ff; text-decoration-color: #00d7ff\">None</span>, <span style=\"color: #00af00; text-decoration-color: #00af00\">1</span>)              │            <span style=\"color: #00af00; text-decoration-color: #00af00\">33</span> │\n",
              "└─────────────────────────────────┴────────────────────────┴───────────────┘\n",
              "</pre>\n"
            ]
          },
          "metadata": {}
        },
        {
          "output_type": "display_data",
          "data": {
            "text/plain": [
              "\u001b[1m Total params: \u001b[0m\u001b[38;5;34m1,972,289\u001b[0m (7.52 MB)\n"
            ],
            "text/html": [
              "<pre style=\"white-space:pre;overflow-x:auto;line-height:normal;font-family:Menlo,'DejaVu Sans Mono',consolas,'Courier New',monospace\"><span style=\"font-weight: bold\"> Total params: </span><span style=\"color: #00af00; text-decoration-color: #00af00\">1,972,289</span> (7.52 MB)\n",
              "</pre>\n"
            ]
          },
          "metadata": {}
        },
        {
          "output_type": "display_data",
          "data": {
            "text/plain": [
              "\u001b[1m Trainable params: \u001b[0m\u001b[38;5;34m1,972,033\u001b[0m (7.52 MB)\n"
            ],
            "text/html": [
              "<pre style=\"white-space:pre;overflow-x:auto;line-height:normal;font-family:Menlo,'DejaVu Sans Mono',consolas,'Courier New',monospace\"><span style=\"font-weight: bold\"> Trainable params: </span><span style=\"color: #00af00; text-decoration-color: #00af00\">1,972,033</span> (7.52 MB)\n",
              "</pre>\n"
            ]
          },
          "metadata": {}
        },
        {
          "output_type": "display_data",
          "data": {
            "text/plain": [
              "\u001b[1m Non-trainable params: \u001b[0m\u001b[38;5;34m256\u001b[0m (1.00 KB)\n"
            ],
            "text/html": [
              "<pre style=\"white-space:pre;overflow-x:auto;line-height:normal;font-family:Menlo,'DejaVu Sans Mono',consolas,'Courier New',monospace\"><span style=\"font-weight: bold\"> Non-trainable params: </span><span style=\"color: #00af00; text-decoration-color: #00af00\">256</span> (1.00 KB)\n",
              "</pre>\n"
            ]
          },
          "metadata": {}
        },
        {
          "output_type": "stream",
          "name": "stdout",
          "text": [
            "Epoch 1/15\n",
            "\u001b[1m285/285\u001b[0m \u001b[32m━━━━━━━━━━━━━━━━━━━━\u001b[0m\u001b[37m\u001b[0m \u001b[1m25s\u001b[0m 52ms/step - accuracy: 0.5363 - loss: 0.7643 - val_accuracy: 0.3674 - val_loss: 0.6976\n",
            "Epoch 2/15\n",
            "\u001b[1m285/285\u001b[0m \u001b[32m━━━━━━━━━━━━━━━━━━━━\u001b[0m\u001b[37m\u001b[0m \u001b[1m19s\u001b[0m 47ms/step - accuracy: 0.5243 - loss: 0.6929 - val_accuracy: 0.4100 - val_loss: 0.6946\n",
            "Epoch 3/15\n",
            "\u001b[1m285/285\u001b[0m \u001b[32m━━━━━━━━━━━━━━━━━━━━\u001b[0m\u001b[37m\u001b[0m \u001b[1m13s\u001b[0m 46ms/step - accuracy: 0.5383 - loss: 0.6807 - val_accuracy: 0.4841 - val_loss: 0.6778\n",
            "Epoch 4/15\n",
            "\u001b[1m285/285\u001b[0m \u001b[32m━━━━━━━━━━━━━━━━━━━━\u001b[0m\u001b[37m\u001b[0m \u001b[1m29s\u001b[0m 77ms/step - accuracy: 0.5512 - loss: 0.6704 - val_accuracy: 0.5739 - val_loss: 0.6577\n",
            "Epoch 5/15\n",
            "\u001b[1m285/285\u001b[0m \u001b[32m━━━━━━━━━━━━━━━━━━━━\u001b[0m\u001b[37m\u001b[0m \u001b[1m30s\u001b[0m 39ms/step - accuracy: 0.5593 - loss: 0.6643 - val_accuracy: 0.5049 - val_loss: 0.6701\n",
            "Epoch 6/15\n",
            "\u001b[1m285/285\u001b[0m \u001b[32m━━━━━━━━━━━━━━━━━━━━\u001b[0m\u001b[37m\u001b[0m \u001b[1m23s\u001b[0m 47ms/step - accuracy: 0.5892 - loss: 0.6497 - val_accuracy: 0.5544 - val_loss: 0.6540\n",
            "Epoch 7/15\n",
            "\u001b[1m285/285\u001b[0m \u001b[32m━━━━━━━━━━━━━━━━━━━━\u001b[0m\u001b[37m\u001b[0m \u001b[1m21s\u001b[0m 49ms/step - accuracy: 0.5947 - loss: 0.6461 - val_accuracy: 0.6207 - val_loss: 0.6237\n",
            "Epoch 8/15\n",
            "\u001b[1m285/285\u001b[0m \u001b[32m━━━━━━━━━━━━━━━━━━━━\u001b[0m\u001b[37m\u001b[0m \u001b[1m18s\u001b[0m 39ms/step - accuracy: 0.6130 - loss: 0.6314 - val_accuracy: 0.6834 - val_loss: 0.5900\n",
            "Epoch 9/15\n",
            "\u001b[1m285/285\u001b[0m \u001b[32m━━━━━━━━━━━━━━━━━━━━\u001b[0m\u001b[37m\u001b[0m \u001b[1m13s\u001b[0m 45ms/step - accuracy: 0.6303 - loss: 0.6249 - val_accuracy: 0.5364 - val_loss: 0.6686\n",
            "Epoch 10/15\n",
            "\u001b[1m285/285\u001b[0m \u001b[32m━━━━━━━━━━━━━━━━━━━━\u001b[0m\u001b[37m\u001b[0m \u001b[1m19s\u001b[0m 38ms/step - accuracy: 0.6212 - loss: 0.6214 - val_accuracy: 0.6902 - val_loss: 0.5551\n",
            "Epoch 11/15\n",
            "\u001b[1m285/285\u001b[0m \u001b[32m━━━━━━━━━━━━━━━━━━━━\u001b[0m\u001b[37m\u001b[0m \u001b[1m26s\u001b[0m 56ms/step - accuracy: 0.6380 - loss: 0.6078 - val_accuracy: 0.6355 - val_loss: 0.6029\n",
            "Epoch 12/15\n",
            "\u001b[1m285/285\u001b[0m \u001b[32m━━━━━━━━━━━━━━━━━━━━\u001b[0m\u001b[37m\u001b[0m \u001b[1m13s\u001b[0m 46ms/step - accuracy: 0.6247 - loss: 0.6141 - val_accuracy: 0.6218 - val_loss: 0.5984\n",
            "Epoch 13/15\n",
            "\u001b[1m285/285\u001b[0m \u001b[32m━━━━━━━━━━━━━━━━━━━━\u001b[0m\u001b[37m\u001b[0m \u001b[1m21s\u001b[0m 47ms/step - accuracy: 0.6353 - loss: 0.5991 - val_accuracy: 0.6741 - val_loss: 0.5669\n",
            "\u001b[1m143/143\u001b[0m \u001b[32m━━━━━━━━━━━━━━━━━━━━\u001b[0m\u001b[37m\u001b[0m \u001b[1m2s\u001b[0m 13ms/step - accuracy: 0.6994 - loss: 0.5480\n",
            "✅ Test Accuracy: 0.69 | Loss: 0.56\n"
          ]
        }
      ]
    },
    {
      "cell_type": "code",
      "source": [
        "import matplotlib.pyplot as plt\n",
        "import pandas as pd\n",
        "import numpy as np\n",
        "\n",
        "# ✅ Step 8: Evaluate and show results\n",
        "loss, acc = model.evaluate(X_test, y_test)\n",
        "print(f\"✅ Test Accuracy: {acc:.2f} | Loss: {loss:.2f}\")\n",
        "\n",
        "# ✅ Step 9: Plot Accuracy & Loss\n",
        "plt.plot(history.history['accuracy'], label='Train Accuracy')\n",
        "plt.plot(history.history['val_accuracy'], label='Val Accuracy')\n",
        "plt.plot(history.history['loss'], label='Train Loss')\n",
        "plt.plot(history.history['val_loss'], label='Val Loss')\n",
        "plt.legend()\n",
        "plt.title(\"Training Performance\")\n",
        "plt.grid()\n",
        "plt.show()\n",
        "\n",
        "# ✅ Step 10: Save the model to Drive (HDF5 or .keras format)\n",
        "model.save('/content/drive/MyDrive/driver_behavior_bilstm_model.keras')  # Preferred\n",
        "print(\"✅ Model saved to Google Drive!\")"
      ],
      "metadata": {
        "colab": {
          "base_uri": "https://localhost:8080/",
          "height": 504
        },
        "id": "C5JwNHhH2V6o",
        "outputId": "7b4a1d2a-fef6-475a-b413-64a8233764e8"
      },
      "execution_count": 4,
      "outputs": [
        {
          "output_type": "stream",
          "name": "stdout",
          "text": [
            "\u001b[1m143/143\u001b[0m \u001b[32m━━━━━━━━━━━━━━━━━━━━\u001b[0m\u001b[37m\u001b[0m \u001b[1m1s\u001b[0m 8ms/step - accuracy: 0.6994 - loss: 0.5480\n",
            "✅ Test Accuracy: 0.69 | Loss: 0.56\n"
          ]
        },
        {
          "output_type": "display_data",
          "data": {
            "text/plain": [
              "<Figure size 640x480 with 1 Axes>"
            ],
            "image/png": "[encoded data removed]"
          },
          "metadata": {}
        },
        {
          "output_type": "stream",
          "name": "stdout",
          "text": [
            "✅ Model saved to Google Drive!\n"
          ]
        }
      ]
    },
    {
      "cell_type": "code",
      "source": [],
      "metadata": {
        "id": "lDeS73475eNw"
      },
      "execution_count": null,
      "outputs": []
    }
  ],
  "metadata": {
    "colab": {
      "provenance": [],
      "authorship_tag": "ABX9TyPuc8N+hgi5Fdb3PZqiva+Y",
      "include_colab_link": true
    },
    "kernelspec": {
      "display_name": "Python 3",
      "name": "python3"
    },
    "language_info": {
      "name": "python"
    }
  },
  "nbformat": 4,
  "nbformat_minor": 0
}